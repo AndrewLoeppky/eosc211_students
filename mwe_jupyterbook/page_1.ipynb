{
 "cells": [
  {
   "cell_type": "markdown",
   "id": "87b2a92d",
   "metadata": {},
   "source": [
    "# Page 1 of the minimal working example\n",
    "\n",
    "investigating why my code cells wont execute when i build a jupyter book"
   ]
  },
  {
   "cell_type": "code",
   "execution_count": null,
   "id": "d9d4c829",
   "metadata": {},
   "outputs": [],
   "source": [
    "print(\"this cell has executed\")"
   ]
  }
 ],
 "metadata": {
  "jupytext": {
   "formats": "ipynb,md"
  },
  "kernelspec": {
   "display_name": "Python 3 (ipykernel)",
   "language": "python",
   "name": "python3"
  },
  "language_info": {
   "codemirror_mode": {
    "name": "ipython",
    "version": 3
   },
   "file_extension": ".py",
   "mimetype": "text/x-python",
   "name": "python",
   "nbconvert_exporter": "python",
   "pygments_lexer": "ipython3",
   "version": "3.8.10"
  }
 },
 "nbformat": 4,
 "nbformat_minor": 5
}

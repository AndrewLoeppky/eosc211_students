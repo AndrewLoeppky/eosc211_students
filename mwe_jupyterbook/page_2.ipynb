{
    "cells": [
        {
            "cell_type": "markdown",
            "source": [
                "# Page 2 of the MWE\r\n",
                "\r\n",
                "lorem ipsum"
            ],
            "metadata": {}
        },
        {
            "cell_type": "code",
            "execution_count": 2,
            "source": [
                "ans = 2 * 2\r\n",
                "print(f\"the answer is {ans}\")"
            ],
            "outputs": [
                {
                    "output_type": "stream",
                    "name": "stdout",
                    "text": [
                        "the answer is 4\n"
                    ]
                }
            ],
            "metadata": {}
        }
    ],
    "metadata": {
        "orig_nbformat": 4,
        "language_info": {
            "name": "python",
            "version": "3.8.10",
            "mimetype": "text/x-python",
            "codemirror_mode": {
                "name": "ipython",
                "version": 3
            },
            "pygments_lexer": "ipython3",
            "nbconvert_exporter": "python",
            "file_extension": ".py"
        },
        "kernelspec": {
            "name": "python3",
            "display_name": "Python 3.8.10 64-bit ('base': conda)"
        },
        "interpreter": {
            "hash": "eeb215ebf1f8dd02e52e1e06e9ed508e1e38a4d474a9cf389d6cdf60940ce933"
        }
    },
    "nbformat": 4,
    "nbformat_minor": 2
}
{
 "cells": [
  {
   "cell_type": "markdown",
   "id": "f3b38c94",
   "metadata": {},
   "source": [
    "# Debugging\n",
    "\n",
    "## EOSC 211\n",
    "\n",
    "**Week 9 Day 1**\n",
    "\n",
    "**Learning Objectives:**  \n",
    "??"
   ]
  },
  {
   "cell_type": "markdown",
   "id": "83c5acce",
   "metadata": {},
   "source": [
    "## Question 1\n",
    "\n",
    "**Decide what the code fragment is trying to do, and how to fix the error so it performs the required task.**"
   ]
  },
  {
   "cell_type": "code",
   "execution_count": 5,
   "id": "9ae94256",
   "metadata": {},
   "outputs": [],
   "source": [
    "import numpy as np\n",
    "A = np.random.rand(10,5) # creates a 10x5 matrix containing random numbers\n",
    "\n",
    "# debug this code\n",
    "\n",
    "def rowsum():\n",
    "    rowsum = 0\n",
    "    for k in range(len(A)):\n",
    "        rowsum = rowsum + A[:,k]"
   ]
  },
  {
   "cell_type": "code",
   "execution_count": 11,
   "id": "3bdd1d90",
   "metadata": {},
   "outputs": [
    {
     "data": {
      "text/plain": [
       "array([4.90428379, 5.24348059, 3.37666679, 5.73596641, 3.66425319])"
      ]
     },
     "execution_count": 11,
     "metadata": {},
     "output_type": "execute_result"
    }
   ],
   "source": [
    "# andrew's soln\n",
    "\n",
    "def rowsum(arr):\n",
    "    \"\"\"\n",
    "    takes in a numpy array (n,m) arr and returns the sum of each column of the array (m,)\n",
    "    \"\"\"\n",
    "    rowsum = np.zeros(len(arr[0,:])) # create an array with the same number of columns as arr\n",
    "    for k in range(len(arr[0,:])): # loop through all the columns\n",
    "        rowsum[k] = np.sum(arr[:,k])\n",
    "    return rowsum\n",
    "\n",
    "rowsum(A)"
   ]
  },
  {
   "cell_type": "markdown",
   "id": "d8d3bf0c",
   "metadata": {},
   "source": [
    "## Question 2\n",
    "\n",
    "**This code is supposed to create a *running standard deviation*. Does it? If it doesn't, state why. If not, what is the problem?**\n",
    "\n",
    "X=rand(1,10)\n",
    "for k=1:length(X),\n",
    "  Y(k)=std(X(max(1,k-3)):X(min(length(X),k+3)));\n",
    "end;"
   ]
  },
  {
   "cell_type": "code",
   "execution_count": 23,
   "id": "b7b992a5",
   "metadata": {},
   "outputs": [],
   "source": [
    "x = np.random.rand(10)\n",
    "y = np.empty_like(x)\n",
    "# debug this code\n",
    "for k in range(len(x)):\n",
    "    y[k] = np.std(x[min(0, k - 3) : max(len(x), k + 3)])"
   ]
  },
  {
   "cell_type": "markdown",
   "id": "ed90b0e2",
   "metadata": {},
   "source": [
    "**A) What do you think this code is trying to do (be specific). Write down the steps in words**"
   ]
  },
  {
   "cell_type": "markdown",
   "id": "4df80efa",
   "metadata": {},
   "source": [
    "your answer here"
   ]
  },
  {
   "cell_type": "markdown",
   "id": "0de889f3",
   "metadata": {},
   "source": [
    "**B) Fix the code to perform the intended operation**"
   ]
  },
  {
   "cell_type": "code",
   "execution_count": 17,
   "id": "f52ffdfb",
   "metadata": {},
   "outputs": [],
   "source": [
    "# your code here"
   ]
  },
  {
   "cell_type": "code",
   "execution_count": 24,
   "id": "e2725237",
   "metadata": {},
   "outputs": [
    {
     "data": {
      "text/plain": [
       "array([0.27883867, 0.24330669, 0.23658089, 0.27883489, 0.31349708,\n",
       "       0.30439089, 0.32881573, 0.32200818, 0.35088279, 0.37618737])"
      ]
     },
     "execution_count": 24,
     "metadata": {},
     "output_type": "execute_result"
    }
   ],
   "source": [
    "# andrew's soln\n",
    "#\n",
    "# this is supposed to call the function np.std (calculate the standard deviation) for x[k-3:k+3],\n",
    "# i.e. the running standard deviation. The min and max function calls handle the cases at the beginning and \n",
    "# end of the array where k-3 is a negative number (which refers to indexes from the end of the array). \n",
    "# the error is that the min and max functions are switched! It should call the GREATER of (0,k-3) and the\n",
    "# LESSER of (len(x),k+3)\n",
    "#\n",
    "\n",
    "for k in range(len(x)):\n",
    "    y[k] = np.std(x[max(0, k - 3) : min(len(x), k + 3)])\n",
    "y"
   ]
  },
  {
   "cell_type": "markdown",
   "id": "d72839c3",
   "metadata": {},
   "source": [
    "## Question 3\n",
    "\n",
    "**Below is a list of common types of errors. Define them in your own words**"
   ]
  },
  {
   "cell_type": "markdown",
   "id": "3c7c1787",
   "metadata": {},
   "source": [
    "**A) Off-by-one error**:"
   ]
  },
  {
   "cell_type": "markdown",
   "id": "c7c62727",
   "metadata": {},
   "source": [
    "**B) Fencepost error:**"
   ]
  },
  {
   "cell_type": "markdown",
   "id": "1b093f0d",
   "metadata": {},
   "source": [
    "## Question 4\n",
    "\n",
    "**What do you see on the screen when you run this code (after fixing the error)?**"
   ]
  },
  {
   "cell_type": "code",
   "execution_count": 36,
   "id": "631477e3",
   "metadata": {},
   "outputs": [
    {
     "ename": "SyntaxError",
     "evalue": "invalid syntax (<ipython-input-36-1ae8a070d99c>, line 5)",
     "output_type": "error",
     "traceback": [
      "\u001b[1;36m  File \u001b[1;32m\"<ipython-input-36-1ae8a070d99c>\"\u001b[1;36m, line \u001b[1;32m5\u001b[0m\n\u001b[1;33m    if j = 4:\u001b[0m\n\u001b[1;37m         ^\u001b[0m\n\u001b[1;31mSyntaxError\u001b[0m\u001b[1;31m:\u001b[0m invalid syntax\n"
     ]
    }
   ],
   "source": [
    "x = 5\n",
    "y = 3\n",
    "for j in np.arange(0,5):\n",
    "    y = y-1\n",
    "    if j = 4:\n",
    "        x +=4"
   ]
  },
  {
   "cell_type": "code",
   "execution_count": 26,
   "id": "9a0c99bf",
   "metadata": {},
   "outputs": [],
   "source": [
    "# your code here"
   ]
  },
  {
   "cell_type": "code",
   "execution_count": 37,
   "id": "ae944809",
   "metadata": {},
   "outputs": [
    {
     "data": {
      "text/plain": [
       "(9, -1)"
      ]
     },
     "execution_count": 37,
     "metadata": {},
     "output_type": "execute_result"
    }
   ],
   "source": [
    "# andrew's soln\n",
    "x = 5\n",
    "y = 4\n",
    "for j in np.arange(0,5):\n",
    "    y = y-1\n",
    "    if j == 4:\n",
    "        x +=4\n",
    "        \n",
    "x, y"
   ]
  }
 ],
 "metadata": {
  "kernelspec": {
   "display_name": "Python 3 (ipykernel)",
   "language": "python",
   "name": "python3"
  },
  "language_info": {
   "codemirror_mode": {
    "name": "ipython",
    "version": 3
   },
   "file_extension": ".py",
   "mimetype": "text/x-python",
   "name": "python",
   "nbconvert_exporter": "python",
   "pygments_lexer": "ipython3",
   "version": "3.8.10"
  }
 },
 "nbformat": 4,
 "nbformat_minor": 5
}

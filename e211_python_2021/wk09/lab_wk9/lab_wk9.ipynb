{
 "cells": [
  {
   "cell_type": "markdown",
   "id": "714acc89",
   "metadata": {},
   "source": [
    "# Lab Week 9\n",
    "\n",
    "## EOSC 211\n",
    "\n",
    "### Learning Objectives:\n",
    "\n",
    "1. Debug code\n",
    "\n",
    "(other possibilities):\n",
    "\n",
    "2. use dictionary keys to reference complex datasets instead of RC indexing\n",
    "\n",
    "3. work with purely functional code?\n",
    "\n",
    "### Intro\n",
    "\n",
    "[link to 9 debugging commandments](https://www.tygertec.com/9-rules-debugging/)\n",
    "\n",
    "Are we going to use a formal debugger? \n",
    "\n",
    "or...\n",
    "\n",
    "Pivot learning goals and use this week to talk about dictionaries?"
   ]
  },
  {
   "cell_type": "code",
   "execution_count": 1,
   "id": "dda94213",
   "metadata": {},
   "outputs": [],
   "source": [
    "import numpy as np\n",
    "from matplotlib import pyplot as plt"
   ]
  },
  {
   "cell_type": "code",
   "execution_count": 2,
   "id": "8f420f6a",
   "metadata": {},
   "outputs": [],
   "source": [
    "# get the datafile\n",
    "the_file = np.genfromtxt(\"lab9_old/mgsva_MJJ.csv\",delimiter=\",\")\n",
    "\n",
    "# extract variables from the csv\n",
    "# (explicit + flat is better than implicit + nested)\n",
    "lats = the_file[:,1]\n",
    "lons = the_file[:,2]\n",
    "u_vel = the_file[:,3]\n",
    "v_vel = the_file[:,4]\n",
    "#u_dev = the_file[:,5]\n",
    "#v_dev = the_file[:,6]\n",
    "\n",
    "# or\n",
    "# (namespaces are a honking great idea)\n",
    "var_dict = {\"lats\":the_file[:,1], \n",
    "            \"lons\":the_file[:,2], \n",
    "            \"u_vel\":the_file[:,3],\n",
    "            \"v_vel\":the_file[:,4]}\n",
    "            #\"u_dev\":the_file[:,5],\n",
    "            #\"v_dev\":the_file[:,6]}"
   ]
  },
  {
   "cell_type": "code",
   "execution_count": 3,
   "id": "1e39b444",
   "metadata": {},
   "outputs": [],
   "source": [
    "def move_to_grid(lats, lons, u_vel, v_vel):\n",
    "    \"\"\"\n",
    "    function to create 2D arrays out of FORTRAN formatted csv data\n",
    "    \n",
    "    in:\n",
    "    csv file with columns 15000., lon, lat, u_vel, v_vel, u_dev, v_dev\n",
    "    \n",
    "    (dev is the standard deviation of each velocity measurement, 15000.\n",
    "    is an artifact from FORTRAN formatting)\n",
    "    \n",
    "    out: \n",
    "    1D arrays: lat_0, lon_0\n",
    "    2D arrays: u, v\n",
    "    \"\"\"\n",
    "    # set up grids\n",
    "    # initializing with NaNs also automatically deals with points where there is\n",
    "    # no data (eg. on land) because those locations will simply contain NaNs\n",
    "    lon_0 = np.arange(-179,180)\n",
    "    lat_0 = np.arange(-89, 89)\n",
    "\n",
    "    u = np.full([179, 360], np.nan)\n",
    "    v = np.full([179, 360], np.nan)\n",
    "\n",
    "    # Loop through all points in .csv file.\n",
    "    #\n",
    "    # For each, calculate the row/col indices\n",
    "    # from the lat/longs.  Lats get converted\n",
    "    # into row indices 'i', and longs into column\n",
    "    # indices 'j'. Since we have a 1 degree spacing\n",
    "    # we just have to add the right offset\n",
    "    # to make this work - for example, for latitudes\n",
    "    # latitude of -89 goes to row 0,\n",
    "    # latitude of -88 goes to row 1, etc.\n",
    "    #\n",
    "    # Then write the\n",
    "    # corresponding U/V data for that lat/long\n",
    "    # into the right place (i.e. index (i,j) )\n",
    "    # in the U/V matrices \n",
    "\n",
    "    \n",
    "    for k in range(len(lats)):\n",
    "        i = int(lons[k]) + 78  # row index\n",
    "        j = int(lats[k]) + 179  # column index\n",
    "        u[i,j] = u_vel[k]\n",
    "        v[i,j] = v_vel[k]\n",
    "        \n",
    "    return lon_0, lat_0, u, v"
   ]
  },
  {
   "cell_type": "code",
   "execution_count": 4,
   "id": "a09c9cb0",
   "metadata": {},
   "outputs": [],
   "source": [
    "def mean2d(in_map, winlen):\n",
    "    \"\"\"\n",
    "    Takes a 2D running mean of an input np array\n",
    "    \n",
    "    in:  winlen -- window length\n",
    "         in_map -- numpy array on which to perform the running mean. \n",
    "        \n",
    "    assumes in_map is a world map, and wraps longitude[-1] around to [0] \n",
    "    \n",
    "    out: out_map -- the filtered map\n",
    "    \"\"\"\n",
    "    # put the actual filtering operation in a subfunction\n",
    "    def do_mean(in_map, winlen):\n",
    "        # initialize the output array and relevant variables\n",
    "        out_map = np.empty_like(in_map)\n",
    "        nrows, ncols = in_map.shape\n",
    "        wn = int((winlen - 1) / 2)\n",
    "        \n",
    "        # loop through each element in the map and perform the average\n",
    "        # no attempts made yet to address edge effects\n",
    "        for i in range(nrows):\n",
    "            for j in range(ncols):\n",
    "                # don't filter the land elements (not working.. why?)\n",
    "                if not np.isnan(in_map[i,j]):\n",
    "                    the_window = out_map[i - wn:i + wn + 1,j - wn:j + wn + 1]\n",
    "                    # nanmean is a function that takes the mean\n",
    "                    # while ignoring nan values\n",
    "                    out_map[i,j] = np.nanmean(the_window) \n",
    "                else:              \n",
    "                    out_map[i,j] = np.nan\n",
    "        return out_map\n",
    "      \n",
    "    \n",
    "    # check for odd winlen\n",
    "    winlen = int(winlen)\n",
    "    if winlen % 2 == 0:\n",
    "        print(\"input arg winlen must be even\")\n",
    "        return None\n",
    "    # winlen of 1 means \"do nothing\"    \n",
    "    elif winlen == 1:\n",
    "        return in_map\n",
    "    # do the calculation and return result\n",
    "    else:\n",
    "        return do_mean(in_map, winlen)\n",
    "    \n"
   ]
  },
  {
   "cell_type": "code",
   "execution_count": null,
   "id": "549ed2d7",
   "metadata": {},
   "outputs": [
    {
     "name": "stderr",
     "output_type": "stream",
     "text": [
      "<ipython-input-4-891b4b17ed86>:28: RuntimeWarning: Mean of empty slice\n",
      "  out_map[i,j] = np.nanmean(the_window)\n"
     ]
    }
   ],
   "source": [
    "#lons, lats, u, v = move_to_grid(lats, lons, u_vel, v_vel)  # the standard way\n",
    "lons, lats, u, v = move_to_grid(**var_dict)  # the honking great way\n",
    "\n",
    "# calculate magnitude of current velocity\n",
    "m = (u ** 2 + v ** 2) ** 0.5\n",
    "\n",
    "# filter the velocity fields\n",
    "filter_width = 11\n",
    "u_filt = mean2d(u, filter_width)\n",
    "v_filt = mean2d(v, filter_width)\n",
    "m_filt = mean2d(m, filter_width)\n",
    "\n",
    "# grab only the decfac^th element of each array on which to plot arrows\n",
    "#arrow_mask = np."
   ]
  },
  {
   "cell_type": "code",
   "execution_count": null,
   "id": "8b5de977",
   "metadata": {},
   "outputs": [],
   "source": [
    "fig, ax = plt.subplots(figsize = (30,20))\n",
    "\n",
    "ax.contourf(m_filt)\n",
    "ax.quiver(u_filt, v_filt, pivot=\"middle\")\n"
   ]
  },
  {
   "cell_type": "code",
   "execution_count": 7,
   "id": "68867269",
   "metadata": {},
   "outputs": [
    {
     "name": "stdout",
     "output_type": "stream",
     "text": [
      "normal function call:\n",
      "1\n",
      "2\n",
      "splat from a list (or tuple)\n",
      "3\n",
      "4\n",
      "double splat from a dictionary\n",
      "5\n",
      "6\n"
     ]
    }
   ],
   "source": [
    "# splatting and doublesplatting tutorial snippet\n",
    "\n",
    "my_list = [3,4]\n",
    "my_dict = {\"a\":5, \"b\":6}\n",
    "\n",
    "def print_vars(a, b):\n",
    "    print(a)\n",
    "    print(b)\n",
    "    return None\n",
    "\n",
    "print(\"normal function call:\")\n",
    "print_vars(1,2)  \n",
    "print(\"splat from a list (or tuple)\")\n",
    "print_vars(*my_list)\n",
    "print(\"double splat from a dictionary\")\n",
    "print_vars(**my_dict)"
   ]
  },
  {
   "cell_type": "code",
   "execution_count": 8,
   "id": "1eb49cd6",
   "metadata": {},
   "outputs": [
    {
     "data": {
      "text/plain": [
       "1.0"
      ]
     },
     "execution_count": 8,
     "metadata": {},
     "output_type": "execute_result"
    }
   ],
   "source": [
    "np.nanmean(np.array([np.nan, np.nan,1]))"
   ]
  },
  {
   "cell_type": "code",
   "execution_count": null,
   "id": "1f63b674",
   "metadata": {},
   "outputs": [],
   "source": []
  },
  {
   "cell_type": "code",
   "execution_count": null,
   "id": "d08ba1e7",
   "metadata": {},
   "outputs": [],
   "source": []
  },
  {
   "cell_type": "code",
   "execution_count": null,
   "id": "27ac614f",
   "metadata": {},
   "outputs": [],
   "source": []
  }
 ],
 "metadata": {
  "jupytext": {
   "formats": "ipynb,md"
  },
  "kernelspec": {
   "display_name": "Python 3",
   "language": "python",
   "name": "python3"
  },
  "language_info": {
   "codemirror_mode": {
    "name": "ipython",
    "version": 3
   },
   "file_extension": ".py",
   "mimetype": "text/x-python",
   "name": "python",
   "nbconvert_exporter": "python",
   "pygments_lexer": "ipython3",
   "version": "3.8.10"
  }
 },
 "nbformat": 4,
 "nbformat_minor": 5
}

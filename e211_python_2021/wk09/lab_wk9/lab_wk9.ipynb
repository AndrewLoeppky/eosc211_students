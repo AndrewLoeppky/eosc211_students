{
 "cells": [
  {
   "cell_type": "markdown",
   "id": "714acc89",
   "metadata": {},
   "source": [
    "# Lab Week 9\n",
    "\n",
    "## EOSC 211\n",
    "\n",
    "### Learning Objectives:\n",
    "\n",
    "1. Debug code\n",
    "\n",
    "### Intro\n",
    "\n",
    "[link to 9 debugging commandments](https://www.tygertec.com/9-rules-debugging/)\n",
    "\n",
    "Are we going to use a formal debugger? \n",
    "\n",
    "or...\n",
    "\n",
    "Pivot learning goals and use this week to talk about dictionaries?"
   ]
  },
  {
   "cell_type": "code",
   "execution_count": 1,
   "id": "dda94213",
   "metadata": {},
   "outputs": [],
   "source": [
    "import numpy as np\n",
    "from matplotlib import pyplot as plt"
   ]
  },
  {
   "cell_type": "code",
   "execution_count": 8,
   "id": "8f420f6a",
   "metadata": {},
   "outputs": [],
   "source": [
    "# get the datafile\n",
    "the_file = np.genfromtxt(\"lab9_old/mgsva_MJJ.csv\",delimiter=\",\")\n",
    "\n",
    "\n",
    "lats = the_file[:,1]\n",
    "lons = the_file[:,2]\n",
    "u_vel = the_file[:,3]\n",
    "v_vel = the_file[:,4]"
   ]
  },
  {
   "cell_type": "code",
   "execution_count": null,
   "id": "1e39b444",
   "metadata": {},
   "outputs": [],
   "source": [
    "def move_to_grid(csv_data):\n",
    "    \"\"\"\n",
    "    function to create 2D arrays out of FORTRAN formatted csv data\n",
    "    \n",
    "    in:\n",
    "    csv file with columns 15000., lon, lat, \n",
    "    \"\"\""
   ]
  },
  {
   "cell_type": "code",
   "execution_count": 6,
   "id": "549ed2d7",
   "metadata": {},
   "outputs": [
    {
     "data": {
      "text/plain": [
       "(42730,)"
      ]
     },
     "execution_count": 6,
     "metadata": {},
     "output_type": "execute_result"
    }
   ],
   "source": [
    "lons.shape"
   ]
  },
  {
   "cell_type": "code",
   "execution_count": 7,
   "id": "68867269",
   "metadata": {},
   "outputs": [
    {
     "data": {
      "text/plain": [
       "array([-78., -77., -76., ...,  87.,  88.,  89.])"
      ]
     },
     "execution_count": 7,
     "metadata": {},
     "output_type": "execute_result"
    }
   ],
   "source": [
    "lons"
   ]
  },
  {
   "cell_type": "code",
   "execution_count": null,
   "id": "1eb49cd6",
   "metadata": {},
   "outputs": [],
   "source": []
  },
  {
   "cell_type": "code",
   "execution_count": null,
   "id": "1f63b674",
   "metadata": {},
   "outputs": [],
   "source": []
  },
  {
   "cell_type": "code",
   "execution_count": null,
   "id": "d08ba1e7",
   "metadata": {},
   "outputs": [],
   "source": []
  },
  {
   "cell_type": "code",
   "execution_count": null,
   "id": "27ac614f",
   "metadata": {},
   "outputs": [],
   "source": []
  }
 ],
 "metadata": {
  "jupytext": {
   "formats": "ipynb,md"
  },
  "kernelspec": {
   "display_name": "Python 3",
   "language": "python",
   "name": "python3"
  },
  "language_info": {
   "codemirror_mode": {
    "name": "ipython",
    "version": 3
   },
   "file_extension": ".py",
   "mimetype": "text/x-python",
   "name": "python",
   "nbconvert_exporter": "python",
   "pygments_lexer": "ipython3",
   "version": "3.8.10"
  }
 },
 "nbformat": 4,
 "nbformat_minor": 5
}

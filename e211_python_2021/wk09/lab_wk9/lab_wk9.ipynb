{
 "cells": [
  {
   "cell_type": "markdown",
   "id": "714acc89",
   "metadata": {},
   "source": [
    "# Lab Week 9\n",
    "\n",
    "## EOSC 211\n",
    "\n",
    "### Learning Objectives:\n",
    "\n",
    "1. Debug code\n",
    "\n",
    "### Intro\n",
    "\n",
    "[link to 9 debugging commandments](https://www.tygertec.com/9-rules-debugging/)\n",
    "\n",
    "Are we going to use a formal debugger? "
   ]
  },
  {
   "cell_type": "code",
   "execution_count": 6,
   "id": "aadc1941",
   "metadata": {},
   "outputs": [],
   "source": [
    "import numpy as np\n",
    "from matplotlib import pyplot as plt"
   ]
  },
  {
   "cell_type": "code",
   "execution_count": 9,
   "id": "8f420f6a",
   "metadata": {},
   "outputs": [
    {
     "data": {
      "text/plain": [
       "(42730, 7)"
      ]
     },
     "execution_count": 9,
     "metadata": {},
     "output_type": "execute_result"
    }
   ],
   "source": [
    "# get the datafile\n",
    "the_file = np.genfromtxt(\"lab9_old/mgsva_MJJ.csv\")\n",
    "\n",
    "the_file.shape"
   ]
  }
 ],
 "metadata": {
  "jupytext": {
   "formats": "ipynb,md"
  },
  "kernelspec": {
   "display_name": "Python 3",
   "language": "python",
   "name": "python3"
  },
  "language_info": {
   "codemirror_mode": {
    "name": "ipython",
    "version": 3
   },
   "file_extension": ".py",
   "mimetype": "text/x-python",
   "name": "python",
   "nbconvert_exporter": "python",
   "pygments_lexer": "ipython3",
   "version": "3.8.10"
  }
 },
 "nbformat": 4,
 "nbformat_minor": 5
}

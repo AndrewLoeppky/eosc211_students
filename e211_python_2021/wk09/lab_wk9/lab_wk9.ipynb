{
 "cells": [
  {
   "cell_type": "markdown",
   "id": "714acc89",
   "metadata": {},
   "source": [
    "# Lab Week 9\n",
    "\n",
    "## EOSC 211\n",
    "\n",
    "### Learning Objectives:\n",
    "\n",
    "1. Debug code\n",
    "\n",
    "(other possibilities):\n",
    "\n",
    "2. use dictionary keys to reference complex datasets instead of RC indexing\n",
    "\n",
    "3. work with purely functional code?\n",
    "\n",
    "### Intro\n",
    "\n",
    "[link to 9 debugging commandments](https://www.tygertec.com/9-rules-debugging/)\n",
    "\n",
    "Are we going to use a formal debugger? \n",
    "\n",
    "or...\n",
    "\n",
    "Pivot learning goals and use this week to talk about dictionaries?"
   ]
  },
  {
   "cell_type": "code",
   "execution_count": 1,
   "id": "dda94213",
   "metadata": {},
   "outputs": [],
   "source": [
    "import numpy as np\n",
    "from matplotlib import pyplot as plt"
   ]
  },
  {
   "cell_type": "code",
   "execution_count": 2,
   "id": "8f420f6a",
   "metadata": {},
   "outputs": [],
   "source": [
    "# get the datafile\n",
    "the_file = np.genfromtxt(\"lab9_old/mgsva_MJJ.csv\",delimiter=\",\")\n",
    "\n",
    "# extract variables from the csv\n",
    "lats = the_file[:,1]\n",
    "lons = the_file[:,2]\n",
    "u_vel = the_file[:,3]\n",
    "v_vel = the_file[:,4]\n",
    "u_dev = the_file[:,5]\n",
    "v_dev = the_file[:,6]\n",
    "\n",
    "# pack into a dictionary\n",
    "data_dict = {\"lats\":lats, \"lons\":lons, \"u_vel\":u_vel, \"v_vel\":v_vel, \"u_dev\":u_dev, \"v_dev\":v_dev}"
   ]
  },
  {
   "cell_type": "code",
   "execution_count": 7,
   "id": "1e39b444",
   "metadata": {},
   "outputs": [
    {
     "name": "stdout",
     "output_type": "stream",
     "text": [
      "(179, 360)\n"
     ]
    }
   ],
   "source": [
    "def move_to_grid(csv_data):\n",
    "    \"\"\"\n",
    "    function to create 2D arrays out of FORTRAN formatted csv data\n",
    "    \n",
    "    in:\n",
    "    csv file with columns 15000., lon, lat, u_vel, v_vel, u_dev, v_dev\n",
    "    \n",
    "    (dev is the standard deviation of each velocity measurement, 15000.\n",
    "    is an artifact from FORTRAN formatting)\n",
    "    \n",
    "    out: \n",
    "    2D arrays: coords, u, v, udev, vdev\n",
    "    \"\"\"\n",
    "    # set up grids\n",
    "    # initializing with NaNs also automatically deals with points where there is\n",
    "    # no data (eg. on land) because those locations will simply contain NaNs\n",
    "    lon_0 = np.arange(-179,180)\n",
    "    lat_0 = np.arange(-89, 89)\n",
    "\n",
    "    u = np.full([179, 360], np.nan)\n",
    "    v = np.full([179, 360], np.nan)\n",
    "\n",
    "    # Loop through all points in .csv file.\n",
    "    #\n",
    "    # For each, calculate the row/col indices\n",
    "    # from the lat/longs.  Lats get converted\n",
    "    # into row indices 'i', and longs into column\n",
    "    # indices 'j'. Since we have a 1 degree spacing\n",
    "    # we just have to add the right offset\n",
    "    # to make this work - for example, for latitudes\n",
    "    # latitude of -89 goes to row 1,\n",
    "    # latitude of -88 goes to row 2, etc.\n",
    "    #\n",
    "    # Then write the\n",
    "    # corresponding U/V data for that lat/long\n",
    "    # into the right place (i.e. index (i,j) )\n",
    "    # in the U/V matrices \n",
    "\n",
    "    print(u.shape)\n",
    "    for k in range(len(lats)-1):\n",
    "        i = int(lons[k] + 78)  # row index\n",
    "        j = int(lats[k] + 179)  # column index\n",
    "        u[i,j] = u_vel[k]\n",
    "        v[i,j] = v_vel[k]"
   ]
  },
  {
   "cell_type": "code",
   "execution_count": 6,
   "id": "549ed2d7",
   "metadata": {},
   "outputs": [
    {
     "data": {
      "text/plain": [
       "<matplotlib.contour.QuadContourSet at 0x222c7364cd0>"
      ]
     },
     "execution_count": 6,
     "metadata": {},
     "output_type": "execute_result"
    },
    {
     "data": {
      "image/png": "[encoded data removed]",
      "text/plain": [
       "<Figure size 432x288 with 1 Axes>"
      ]
     },
     "metadata": {
      "needs_background": "light"
     },
     "output_type": "display_data"
    }
   ],
   "source": [
    "plt.contourf(u)"
   ]
  },
  {
   "cell_type": "code",
   "execution_count": null,
   "id": "68867269",
   "metadata": {},
   "outputs": [],
   "source": [
    "lons"
   ]
  },
  {
   "cell_type": "code",
   "execution_count": null,
   "id": "1eb49cd6",
   "metadata": {},
   "outputs": [],
   "source": [
    "# do it the pandas way\n",
    "import pandas as pd"
   ]
  },
  {
   "cell_type": "code",
   "execution_count": null,
   "id": "1f63b674",
   "metadata": {},
   "outputs": [],
   "source": [
    "currents = pd.read_csv(\"lab9_old/mgsva_MJJ.csv\", names=[\"fortran_artifact\", \"lon\", \"lat\", \"U\", \"V\", \"stdev_U\", \"stdev_V\"])\n",
    "currents"
   ]
  },
  {
   "cell_type": "code",
   "execution_count": null,
   "id": "d08ba1e7",
   "metadata": {},
   "outputs": [],
   "source": []
  },
  {
   "cell_type": "code",
   "execution_count": null,
   "id": "27ac614f",
   "metadata": {},
   "outputs": [],
   "source": []
  }
 ],
 "metadata": {
  "jupytext": {
   "formats": "ipynb,md"
  },
  "kernelspec": {
   "display_name": "Python 3",
   "language": "python",
   "name": "python3"
  },
  "language_info": {
   "codemirror_mode": {
    "name": "ipython",
    "version": 3
   },
   "file_extension": ".py",
   "mimetype": "text/x-python",
   "name": "python",
   "nbconvert_exporter": "python",
   "pygments_lexer": "ipython3",
   "version": "3.8.10"
  }
 },
 "nbformat": 4,
 "nbformat_minor": 5
}

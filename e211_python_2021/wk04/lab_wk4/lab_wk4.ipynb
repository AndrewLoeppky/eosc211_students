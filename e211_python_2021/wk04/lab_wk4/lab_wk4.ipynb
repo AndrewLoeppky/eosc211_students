{
 "cells": [
  {
   "cell_type": "markdown",
   "id": "6702106d",
   "metadata": {},
   "source": [
    "# Lab Week 4\n",
    "\n",
    "## EOSC 211\n",
    "\n",
    "### Learning Objectives:\n",
    "\n",
    "1. Do math with python! \n",
    "\n",
    "2. Write structured code following input-process-output format\\\n",
    "\n",
    "3. Develop code with the scaffolding technique (source: HTTLACS?)\n",
    "\n",
    "4. More plots!\n",
    "\n",
    "\n",
    "### Intro\n",
    "\n",
    "\n",
    "### Themes\n",
    "\n",
    "computer math + - * / **\n",
    "\n",
    "logical operators > < == !=\n",
    "\n",
    "```and``` and ```or```\n",
    "\n",
    "order of operations"
   ]
  },
  {
   "cell_type": "code",
   "execution_count": 3,
   "id": "1b6dd7c1",
   "metadata": {},
   "outputs": [],
   "source": [
    "from e211_lib import e211\n",
    "import numpy as np\n",
    "from matplotlib import pyplot as plt "
   ]
  },
  {
   "cell_type": "markdown",
   "id": "c9517f54",
   "metadata": {},
   "source": [
    "What does this do?"
   ]
  },
  {
   "cell_type": "code",
   "execution_count": 5,
   "id": "ec78a57f",
   "metadata": {},
   "outputs": [],
   "source": [
    "z = 2\n",
    "x = round(np.exp(np.sqrt(z / 3)))"
   ]
  },
  {
   "cell_type": "markdown",
   "id": "1e37e888",
   "metadata": {},
   "source": [
    "### Clausius-Clapeyron equation and the atmospheric equation of state\n",
    "\n",
    "Over large spatial scales in the atmosphere (and ocean) we can attempt to predict the winds (or currents) by looking at spatial changes in the DENSITY. In air the density is a function of pressure, temperature, and the amount of water\n",
    "vapour present - i.e.  the THERMODYNAMIC STATE*. Moist air is less dense than dry air, because H$_2$O gas is lighter than either N$_2$ or O$_2$ gas (which makes up most of the atmosphere). We often hear water vapour measurements given as a RELATIVE HUMIDITY (RH) which is the the ratio of the vapor pressure relative to the SATURATION LEVEL for a particular temperature.  The saturation level is the maximum amount of water vapour that air can hold in equilibrium (say, inside a closed bottle containing air and water, which you let sit for a long time).  A RH of 100% means it is foggy (saturated) and 0% means you are coughing and generating sparks every time you walk across a carpet! How do we get from RH to density?\n",
    "\n",
    "First, define the following quantities:\n",
    "\n",
    "\n",
    "| Symbol      | Variable  | SI Units   |\n",
    "|:-------------|:-----------|:------------|\n",
    "| $\\rho$  | Density       | $kg/m^3$   |\n",
    "| $P$     | Pressure      | $Pa$   |\n",
    "| $T$     | Temperature   | $K$ |\n",
    "| $RH$    | Relative Humidity | $\\%$ |\n",
    "| $r$     | Mixing Ratio  | $\\frac{kg \\space water \\space vapor}{kg \\space dry \\space air}$|\n",
    "| $e$     | Vapor Pressure | $Pa$   |\n",
    "| $e_s$   | Saturation Vapor Pressure |\n"
   ]
  }
 ],
 "metadata": {
  "jupytext": {
   "text_representation": {
    "extension": ".py",
    "format_name": "percent",
    "format_version": "1.3",
    "jupytext_version": "1.11.2"
   }
  },
  "kernelspec": {
   "display_name": "Python 3",
   "language": "python",
   "name": "python3"
  },
  "language_info": {
   "codemirror_mode": {
    "name": "ipython",
    "version": 3
   },
   "file_extension": ".py",
   "mimetype": "text/x-python",
   "name": "python",
   "nbconvert_exporter": "python",
   "pygments_lexer": "ipython3",
   "version": "3.9.4"
  }
 },
 "nbformat": 4,
 "nbformat_minor": 5
}

{
 "cells": [
  {
   "cell_type": "markdown",
   "id": "6702106d",
   "metadata": {},
   "source": [
    "# Lab Week 4\n",
    "\n",
    "## EOSC 211\n",
    "\n",
    "### Learning Objectives:\n",
    "\n",
    "1. Do math with python! \n",
    "\n",
    "2. Write structured code following input-process-output format\n",
    "\n",
    "3. Develop code with the scaffolding technique (source: HTTLACS?)\n",
    "\n",
    "4. More plots!\n",
    "\n",
    "\n",
    "### Intro\n",
    "\n",
    "\n",
    "### Themes\n",
    "\n",
    "computer math + - * / ** -- on scalars and vectors (arrays)\n",
    "\n",
    "order of operations\n",
    "\n",
    "plt.subplots() syntax, intro to OO programming?"
   ]
  },
  {
   "cell_type": "code",
   "execution_count": 1,
   "id": "1b6dd7c1",
   "metadata": {},
   "outputs": [],
   "source": [
    "import numpy as np\n",
    "from matplotlib import pyplot as plt "
   ]
  },
  {
   "cell_type": "markdown",
   "id": "78babea6",
   "metadata": {},
   "source": [
    "## Part 1: Computer Math and Writing Stylish Code (Tutorial)"
   ]
  },
  {
   "cell_type": "markdown",
   "id": "9f3173d8",
   "metadata": {},
   "source": [
    "This is the hydrostatic equation. It relates *atmospheric pressure* to height above sea level. The pressure we measure at the surface is caused by the weight of the atmosphere above being held down by earth's gravity. As we move higher into the atmosphere, there is less air above (less weight pushing down), so the pressure decreases. \n",
    "\n",
    "$$\n",
    "P = P_0\\cdot e^{-(a/T)\\cdot z}\\tag{Hydrostatic Equation}\n",
    "$$\n",
    "\n",
    "where constants $a=0.0342 K/m$ and $P_0=101325 Pa$, and the other variables are defined in as:\n",
    "\n",
    "| Symbol  | Variable      | SI Units   |\n",
    "|:--------|:--------------|:------------|\n",
    "| $P$     | Pressure      | $Pa$   |\n",
    "| $T$     | Temperature   | $K$ |\n",
    "| $z$     | Height Above Sea Level   | $m$ |\n",
    "\n",
    "We would like to write code to calculate atmospheric pressure at any given height. In lecture, we practiced using Python's built in mathematical operators `+ = * / **`. Now we will apply these skills to *mathematically describe the state of the atmosphere* and make some informative graphics to communicate our results. As always when tackling a more complex problem, keeping our code organized is incredibly helpful, especially when we need to circle back to either modify or debug our program.\n",
    "\n",
    "### Tips on Writing Code With Style:\n",
    "\n",
    "* Be very careful with unit conversion.  Humans usually like to express temperature in Celsius, but the thermodynamic equations require temperatures in Kelvin.  That means that you need to distinguish between two temperatures with names like `Tk` and `Tc`, where `Tk = Tc + 273.15`. Make sure that you convert to Kelvin as soon as you can. Do it only once at the start and (if necessary for output) once at the end.\n",
    "\n",
    "* Choose good variable names. Don’t use single letters like `T` and `P` for variable names in a script. It makes it very hard to do search and replace with your editor when you want to change them, and the names aren’t very meaningful to others who might read your code. Remember that Python is *case sensitive* so `P` and `p` are two different variables. Also, it is super helpful to note the units of each variable with comments.\n",
    "\n",
    "* As much as you can, separate your script into 4 parts IN THIS ORDER:\n",
    "\n",
    ">**1.  INPUTS:**  These  are  variables  whose  values  you  might  want  to  change  if  you  run  the  program multiple times.\n",
    "\n",
    ">**2.  INTERNAL DEFINITIONS or CONSTANTS:** These are variables that are defined as constants which you will never change, or some simple conversions (e.g. Celcius to Kelvin)\n",
    "\n",
    ">**3.  CALCULATIONS:** This is where the complicated parts of the procedure go\n",
    "\n",
    ">**4.  the OUTPUTS:** What you do once the math is finished (e.g. plotting).\n",
    "\n",
    "* It is useful to separate the parts by white space, and liberally comment your code. Note that not all tasks in 2 and 3 are easily separated, and sometimes plotting happens earlier than the end of the program, but it’s a good idea to always approach problems this way initially.\n",
    "\n",
    "### Coding the Hydrostatic Equation"
   ]
  },
  {
   "cell_type": "code",
   "execution_count": 13,
   "id": "55a706aa",
   "metadata": {},
   "outputs": [
    {
     "name": "stdout",
     "output_type": "stream",
     "text": [
      "36088.5266721627\n"
     ]
    }
   ],
   "source": [
    "# inputs\n",
    "Tc = 20  # deg C\n",
    "height = 8849  # m\n",
    "\n",
    "# internal definitions\n",
    "Tk = Tc + 273.15  # K\n",
    "hstat_const = 0.0342  # K/m\n",
    "P0 = 101325  # Pa\n",
    "\n",
    "# calculations\n",
    "pres = P0 * np.exp(-hstat_const / Tk * height)  # hydrostatic equation\n",
    "\n",
    "# outputs\n",
    "print(pres)"
   ]
  },
  {
   "cell_type": "markdown",
   "id": "828443bb",
   "metadata": {},
   "source": [
    "Try playing with the inputs to see if our pressure calculator is working properly. We know that at the surface (ie $z$=0m), the pressure should equal the reference $P_0$ of 101325 Pa. On the summit of Mt Everest (8849m), pressure is roughly a third of that value. Waaay up high, (try setting $z$ to a billion or something) the pressure should drop away to near 0 Pa. Is our calculation working properly?\n",
    "\n",
    "### Math with Arrays\n",
    "\n",
    "Now that you have working code for *scalar inputs* (and checked that it calculates the correct values), let's can apply it to a whole range of values by defining our inputs as numpy arrays instead of single variables (we could also use lists, tuples or most any *iterable data type* will work). Solving this equation by hand or with a calculator isn't that hard, but now we can solve it again and again as many times as we want for no extra cost! Let's compute the pressure for a bunch of different heights, then use Matplotlib to make an XY plot of our output variables over the specified range of inputs. \n",
    "\n",
    "**Remember:** Multiplying an array `A` by a scalar variable `b` multiplies every element of `A` by `b`. Multiplying an array `A` by another array `B` does the operation *element-wise*; i.e. the first element of `A` gets multiplied by the first element of `B`, the second element of `A` by the second of `B`, etc. This only works if the `A` and `B` are the same size and shape."
   ]
  },
  {
   "cell_type": "code",
   "execution_count": 14,
   "id": "d95e5887",
   "metadata": {},
   "outputs": [],
   "source": [
    "# change the \"height\" input to an array\n",
    "height = np.arange(10000, 0, -100)  # m\n",
    "\n",
    "# this cell \"knows\" about the definitions from the previous cell, no need to repeat\n",
    "# (unless we want to change something)\n",
    "\n",
    "# calculations\n",
    "pres = P0 * np.exp(-hstat_const / Tk * height)  # hydrostatic equation"
   ]
  },
  {
   "cell_type": "markdown",
   "id": "83de8080",
   "metadata": {},
   "source": [
    "For our plot, we will use a slightly different syntax than last week. Why we do this will become apparent shortly."
   ]
  },
  {
   "cell_type": "code",
   "execution_count": 23,
   "id": "11ea6796",
   "metadata": {},
   "outputs": [
    {
     "data": {
      "text/plain": [
       "Text(0.5, 1.0, 'Pressure Variation with Altitude')"
      ]
     },
     "execution_count": 23,
     "metadata": {},
     "output_type": "execute_result"
    },
    {
     "data": {
      "image/png": "[encoded data removed]",
      "text/plain": [
       "<Figure size 432x288 with 1 Axes>"
      ]
     },
     "metadata": {
      "needs_background": "light"
     },
     "output_type": "display_data"
    }
   ],
   "source": [
    "# output -- a plot!\n",
    "fig, ax = plt.subplots()\n",
    "ax.plot(pres, height)\n",
    "ax.set_xlabel(\"Pressure (Pa)\")\n",
    "ax.set_ylabel(\"Height (m)\")\n",
    "ax.set_title(\"Pressure Variation with Altitude\")"
   ]
  },
  {
   "cell_type": "code",
   "execution_count": null,
   "id": "317d53dc",
   "metadata": {},
   "outputs": [],
   "source": []
  },
  {
   "cell_type": "markdown",
   "id": "1e37e888",
   "metadata": {},
   "source": [
    "## Part 2: Clausius-Clapeyron Equation and the Atmospheric Equation of State\n",
    "\n",
    "Over large spatial scales in the atmosphere (and ocean) we can attempt to predict the winds (or currents) by looking at spatial changes in the DENSITY. In air the density is a function of pressure, temperature, and the amount of water\n",
    "vapour present - i.e.  the THERMODYNAMIC STATE*. Moist air is less dense than dry air, because H$_2$O gas is lighter than either N$_2$ or O$_2$ gas (which makes up most of the atmosphere). We often hear water vapour measurements given as a RELATIVE HUMIDITY (RH) which is the the ratio of the vapor pressure relative to the SATURATION LEVEL for a particular temperature.  The saturation level is the maximum amount of water vapour that air can hold in equilibrium (say, inside a closed bottle containing air and water, which you let sit for a long time).  A RH of 100% means it is foggy (saturated) and 0% means you are coughing and generating sparks every time you walk across a carpet! How do we get from RH to density?\n",
    "\n",
    "First, define the following quantities:\n",
    "\n",
    "\n",
    "| Symbol  | Variable      | SI Units   |\n",
    "|:--------|:--------------|:------------|\n",
    "| $\\rho$  | Density       | $kg/m^3$   |\n",
    "| $P$     | Pressure      | $Pa$   |\n",
    "| $T$     | Temperature   | $K$ |\n",
    "| $RH$    | Relative Humidity | $\\%$ |\n",
    "| $r$     | Mixing Ratio  | $\\frac{kg \\space water \\space vapor}{kg \\space dry \\space air}$|\n",
    "| $e$     | Vapor Pressure | $Pa$   |\n",
    "| $e_s$   | Saturation Vapor Pressure | $Pa$ |\n",
    "\n",
    "Now,  it  would  be  nice  to  have  (say)  a  single,  perhaps  complicated, equation of state for density (as oceanographers do), but in fact atmospheric scientists define things using a chain of temporary variables†. It all begins with the *Clausius-Clapeyron* equation which relates the temperature and the saturation vapour pressure:\n",
    "\n",
    "$$\n",
    "e_s = e_0\\cdot exp \\left[ \\frac{L}{R_v}\\left(\\frac{1}{T_0}-\\frac{1}{T}\\right)\\right]\\tag{1}\n",
    "$$\n",
    "\n",
    "where $e_0 = 611Pa$, $L= 2.5\\cdot10^6J/kg$ is the latent heat of evaporation, $T_0= 273K$ is a constant (NOT $273.15K$), and $R_v= 461J/K/kg$ (Joules per kelvin per kilogram) is the gas constant for pure water vapour. Next we have\n",
    "\n",
    "$$\n",
    "e = e_s\\frac{RH}{100}\\tag{2}\n",
    "$$\n",
    "\n",
    "and then \n",
    "\n",
    "$$\n",
    "r = \\frac{\\varepsilon e}{P - e}\\tag{3}\n",
    "$$\n",
    "\n",
    "where $\\varepsilon= 0.622\\frac{kg_{vapour}}{kg_{dry\\space air}} \\space (=R_d/R_v)$, and finally\n",
    "\n",
    "$$\n",
    "\\rho = \\frac{P}{R_dT(1 + 0.61r)}\\tag{4}\n",
    "$$\n",
    "\n",
    "where $R_d = 287J/K/kg$ is  the  ideal  gas  constant  for  dry  air.‡ To  check  units,  remember  that  $1\\space Pa  =1\\space kg/m/s^2$, and $1\\space J=1\\space kg m^2/s^2$.\n",
    "\n",
    "---\n",
    "---\n",
    "\\* For oceanographers, density is a function of pressure, temperature, and salinity, and for geologists the density of (say) molten rock will depend on pressure, temperature, and its chemical composition. For this lab you just have to know that there *are* equations to figure out!\n",
    "\n",
    "† See *Meteorology Today for Scientists and Engineers*, R. Stull\n",
    "\n",
    "‡ You may recognize some similarity between this last equation and the IDEAL GAS LAW $P V=nRT$ which is no coincidence - in fact the $0.61r$ is a correction for the non-ideal nature of moist air."
   ]
  },
  {
   "cell_type": "markdown",
   "id": "01fdb234",
   "metadata": {},
   "source": [
    "### Your Task: Implementing the CC Equation in Python\n",
    "\n",
    "Write a code cell which defines variables for all the constants used (i.e. $L$, $R_v$, $T_0$, $e_0$) and then find $e_s$ for a single $T$. Be sure to invent good names for all of these symbols and include their units in the comments, e. g. `Lvap = 2.5e6  # J/kg`. Run the cell to find $e_s$ at a temperature of $T= 25^oC$.  Compare this number against a CHECK VALUE 3264.0782439825894 Pa. Be careful about operator precedence and make sure you get the RIGHT answer!"
   ]
  },
  {
   "cell_type": "code",
   "execution_count": 5,
   "id": "bbfb93b8",
   "metadata": {},
   "outputs": [],
   "source": [
    "# your code here"
   ]
  },
  {
   "cell_type": "code",
   "execution_count": 6,
   "id": "0b794de9",
   "metadata": {},
   "outputs": [
    {
     "name": "stdout",
     "output_type": "stream",
     "text": [
      "3264.0782439825894\n"
     ]
    }
   ],
   "source": [
    "# andrew's soln\n",
    "\n",
    "# input\n",
    "Tc = 25  # deg C\n",
    "\n",
    "# internal definitions\n",
    "Tk = Tc + 273.15  # K\n",
    "e0 = 611  # Pa \n",
    "Lvap = 2.5e6  # J/kg\n",
    "T0 = 273  # K\n",
    "Rv = 461  # J/kg/K\n",
    "\n",
    "# calculations\n",
    "esat = e0 * np.exp((Lvap / Rv) * (1 / T0 - 1 / Tk))  # eqn 1\n",
    "\n",
    "# outputs\n",
    "print(esat)"
   ]
  },
  {
   "cell_type": "markdown",
   "id": "97b7b613",
   "metadata": {},
   "source": [
    "Now add a cell to  calculate  the  air  density  at $T= 25^oC,RH= 50\\%$,  at  surface  pressure  ($P= 102000Pa$).   The  answer  should  be  1.1847106098829943 kg/m$^3$ (or  1.184704073721439  if $\\varepsilon≡R_d/R_v$).   Note  that  increasing  the  humidity  (i.e.   adding  more  water  vapour)  decreases  the  density since H$_2$O is displacing heavier N$_2$ and O$_2$ molecules."
   ]
  },
  {
   "cell_type": "code",
   "execution_count": 7,
   "id": "ee09472f",
   "metadata": {},
   "outputs": [],
   "source": [
    "# your code here"
   ]
  },
  {
   "cell_type": "code",
   "execution_count": 8,
   "id": "2bf77121",
   "metadata": {},
   "outputs": [
    {
     "name": "stdout",
     "output_type": "stream",
     "text": [
      "1.1847106098829943\n"
     ]
    }
   ],
   "source": [
    "# andrew's soln\n",
    "\n",
    "# input\n",
    "RH = 50  # %\n",
    "pres = 102000  # Pa\n",
    "\n",
    "# internal definitions (this cell knows about the variables defined in the cell above,\n",
    "# so just add the new ones as needed)\n",
    "epsilon = 0.622  # vap/air by mass\n",
    "Rd = 287  # J/kg/K\n",
    "\n",
    "# calculations\n",
    "e_x = esat * RH / 100  # eqn 2\n",
    "mixrat = epsilon * e_x / (pres - e_x)  # eqn 3\n",
    "rho = pres / (Rd * Tk * (1 + 0.61 * mixrat))\n",
    "\n",
    "# output\n",
    "print(rho)"
   ]
  },
  {
   "cell_type": "markdown",
   "id": "8a7d3ac4",
   "metadata": {},
   "source": [
    "In the cell below, calculate the saturation vapour pressure $e_s$ for temperatures ranging from -40$^o$C to 30$^o$C. Be sure to stick to the format of *input, definitions, calulations, output*. This time, make your output a *scientific figure* showing the whole range of $T$ values."
   ]
  },
  {
   "cell_type": "code",
   "execution_count": 9,
   "id": "d4bda769",
   "metadata": {},
   "outputs": [],
   "source": [
    "# your code here"
   ]
  },
  {
   "cell_type": "code",
   "execution_count": 10,
   "id": "f9eee357",
   "metadata": {},
   "outputs": [
    {
     "data": {
      "text/plain": [
       "Text(0.5, 1.0, 'Saturation Vapour Pressure as a Function of Temperature')"
      ]
     },
     "execution_count": 10,
     "metadata": {},
     "output_type": "execute_result"
    },
    {
     "data": {
      "image/png": "[encoded data removed]",
      "text/plain": [
       "<Figure size 432x288 with 1 Axes>"
      ]
     },
     "metadata": {
      "needs_background": "light"
     },
     "output_type": "display_data"
    }
   ],
   "source": [
    "# andrew's soln\n",
    "\n",
    "# input\n",
    "Tc = np.arange(-40, 31)\n",
    "\n",
    "# definitions\n",
    "Tk = Tc + 273.15  # K\n",
    "\n",
    "# calculations\n",
    "esat = e0 * np.exp((Lvap / Rv) * (1 / T0 - 1 / Tk))  # eqn 1\n",
    "\n",
    "# output (a plot!)\n",
    "fix, ax = plt.subplots()\n",
    "ax.plot(Tc, esat)\n",
    "ax.set_xlabel(\"Temp ($^o$C)\")\n",
    "ax.set_ylabel(\"Saturation Vapour Pressure (Pa)\")\n",
    "ax.set_title(\"Saturation Vapour Pressure as a Function of Temperature\")"
   ]
  },
  {
   "cell_type": "markdown",
   "id": "e52691ab",
   "metadata": {},
   "source": [
    "Next, calculate and plot the mixing ratior as a function of temperature for $RH= 100\\%$ and $P= 90000Pa$ (about 1 km above the surface)."
   ]
  },
  {
   "cell_type": "code",
   "execution_count": 11,
   "id": "ee453004",
   "metadata": {},
   "outputs": [],
   "source": [
    "# your code here"
   ]
  },
  {
   "cell_type": "code",
   "execution_count": 12,
   "id": "a9bf381d",
   "metadata": {},
   "outputs": [
    {
     "data": {
      "image/png": "[encoded data removed]",
      "text/plain": [
       "<Figure size 432x288 with 1 Axes>"
      ]
     },
     "metadata": {
      "needs_background": "light"
     },
     "output_type": "display_data"
    }
   ],
   "source": [
    "# andrew's soln\n",
    "\n",
    "# input\n",
    "RH = 100  # %\n",
    "pres = 90000  # Pa\n",
    "\n",
    "# calculations\n",
    "e_x = esat * RH / 100  # eqn 2\n",
    "mixrat = epsilon * e_x / (pres - e_x)  # eqn 3\n",
    "\n",
    "# output\n",
    "fix, ax = plt.subplots()\n",
    "ax.plot(Tc, mixrat)\n",
    "ax.set_xlabel(\"Temp ($^o$C)\")\n",
    "ax.set_ylabel(\"Mixing Ratio (kg/kg)\")\n",
    "ax.set_title(\"Mixing Ratio as a Function of Temperature\");"
   ]
  },
  {
   "cell_type": "markdown",
   "id": "6d0c6e96",
   "metadata": {},
   "source": [
    "next question asks to plot multiple lines on a figure using a 2d matrix... better saved until the loops section i think.. make subplots instead? "
   ]
  }
 ],
 "metadata": {
  "jupytext": {
   "formats": "ipynb,md"
  },
  "kernelspec": {
   "display_name": "Python 3",
   "language": "python",
   "name": "python3"
  },
  "language_info": {
   "codemirror_mode": {
    "name": "ipython",
    "version": 3
   },
   "file_extension": ".py",
   "mimetype": "text/x-python",
   "name": "python",
   "nbconvert_exporter": "python",
   "pygments_lexer": "ipython3",
   "version": "3.9.4"
  }
 },
 "nbformat": 4,
 "nbformat_minor": 5
}

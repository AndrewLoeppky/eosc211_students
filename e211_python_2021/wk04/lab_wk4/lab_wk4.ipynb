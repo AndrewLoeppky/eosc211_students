{
 "cells": [
  {
   "cell_type": "markdown",
   "id": "6702106d",
   "metadata": {},
   "source": [
    "# Lab Week 4\n",
    "\n",
    "## EOSC 211\n",
    "\n",
    "### Learning Objectives:\n",
    "\n",
    "1. Do math with python! \n",
    "\n",
    "2. Write structured code following input-process-output format\\\n",
    "\n",
    "3. Develop code with the scaffolding technique (source: HTTLACS?)\n",
    "\n",
    "4. More plots!\n",
    "\n",
    "\n",
    "### Intro\n",
    "\n",
    "\n",
    "### Themes\n",
    "\n",
    "computer math + - * / **\n",
    "\n",
    "logical operators > < == !=\n",
    "\n",
    "```and``` and ```or```\n",
    "\n",
    "order of operations"
   ]
  },
  {
   "cell_type": "code",
   "execution_count": 3,
   "id": "1b6dd7c1",
   "metadata": {},
   "outputs": [],
   "source": [
    "from e211_lib import e211\n",
    "import numpy as np\n",
    "from matplotlib import pyplot as plt "
   ]
  },
  {
   "cell_type": "markdown",
   "id": "c9517f54",
   "metadata": {},
   "source": [
    "What does this do?"
   ]
  },
  {
   "cell_type": "code",
   "execution_count": 5,
   "id": "ec78a57f",
   "metadata": {},
   "outputs": [],
   "source": [
    "z = 2\n",
    "x = round(np.exp(np.sqrt(z / 3)))"
   ]
  },
  {
   "cell_type": "markdown",
   "id": "1e37e888",
   "metadata": {},
   "source": [
    "### Clausius-Clapeyron equation and the atmospheric equation of state\n",
    "\n",
    "Over large spatial scales in the atmosphere (and ocean) we can attempt to predict the winds (or currents) by looking at spatial changes in the DENSITY. In air the density is a function of pressure, temperature, and the amount of water\n",
    "vapour present - i.e.  the THERMODYNAMIC STATE*. Moist air is less dense than dry air, because H$_2$O gas is lighter than either N$_2$ or O$_2$ gas (which makes up most of the atmosphere). We often hear water vapour measurements given as a RELATIVE HUMIDITY (RH) which is the the ratio of the vapor pressure relative to the SATURATION LEVEL for a particular temperature.  The saturation level is the maximum amount of water vapour that air can hold in equilibrium (say, inside a closed bottle containing air and water, which you let sit for a long time).  A RH of 100% means it is foggy (saturated) and 0% means you are coughing and generating sparks every time you walk across a carpet! How do we get from RH to density?\n",
    "\n",
    "First, define the following quantities:\n",
    "\n",
    "\n",
    "| Symbol  | Variable      | SI Units   |\n",
    "|:--------|:--------------|:------------|\n",
    "| $\\rho$  | Density       | $kg/m^3$   |\n",
    "| $P$     | Pressure      | $Pa$   |\n",
    "| $T$     | Temperature   | $K$ |\n",
    "| $RH$    | Relative Humidity | $\\%$ |\n",
    "| $r$     | Mixing Ratio  | $\\frac{kg \\space water \\space vapor}{kg \\space dry \\space air}$|\n",
    "| $e$     | Vapor Pressure | $Pa$   |\n",
    "| $e_s$   | Saturation Vapor Pressure | $Pa$ |\n",
    "\n",
    "Now,  it  would  be  nice  to  have  (say)  a  single,  perhaps  complicated, equation of state for density (as oceanographers do), but in fact atmospheric scientists define things using a chain of temporary variables†. It all begins with the CLAUSIUS-CLAPEYRON equation which relates the temperature andthe saturation vapour pressure:\n",
    "\n",
    "$$\n",
    "e_s = e_0\\cdot exp \\left[ \\frac{L}{R_v}\\frac{1}{T_0}-\\frac{1}{T}\\right]\\tag{Clausius-Clapeyron Eqn}\n",
    "$$\n",
    "\n",
    "where $e_0 = 611Pa$, $L= 2.5\\cdot10^6J/kg$ is the latent heat of evaporation, $T_0= 273K$ is a constant (NOT $273.15K$), and $R_v= 461J/K/kg$ (Joules per kelvin per kilogram) is the gas constant for pure water vapour. Next we have\n",
    "\n",
    "$$\n",
    "e = e_s\\frac{RH}{100}\n",
    "$$\n",
    "\n",
    "and then \n",
    "\n",
    "$$\n",
    "r = \\frac{\\varepsilon e}{P - e}\n",
    "$$\n",
    "\n",
    "where $\\varepsilon= 0.622\\frac{kg_{vapour}}{kg_{dry\\space air}} \\space (=R_d/R_v)$, and finally\n",
    "\n",
    "$$\n",
    "\\rho = \\frac{P}{R_dT(1 + 0.61r)}\n",
    "$$\n",
    "\n",
    "where $R_d = 287J/K/kg$ is  the  ideal  gas  constant  for  dry  air.‡ To  check  units,  remember  that  $1\\space Pa  =1\\space kg/m/s^2$, and $1\\space J=1\\space kg m^2/s^2$.\n",
    "\n",
    "---\n",
    "---\n",
    "\\* For oceanographers, density is a function of pressure, temperature, and salinity, and for geologists the density of (say) molten rock willdepend on pressure, temperature, and its chemical composition. For this lab you just have to know that thereareequations to figure out!\n",
    "\n",
    "† See *Meteorology Today for Scientists and Engineers*, R. Stull\n",
    "\n",
    "‡ You may recognize some similarity between this last equation and the IDEAL GAS LAW $P V=nRT$ which is no coincidence - in fact the $0.61r$ is a correction for the non-ideal nature of moist air."
   ]
  },
  {
   "cell_type": "markdown",
   "id": "6e6322af",
   "metadata": {},
   "source": [
    "### Implementing the CC Equation in Python\n",
    "\n",
    "#### Four important points about programming style:\n",
    "\n",
    "* Be very careful with unit conversion.  Humans usually like to express temperature in Celsius, but the thermodynamic equations require temperatures in Kelvin.  That means that you need to distinguish between two temperatures with names like `Tk` and `Tc`, where `Tk = Tc + 273.15`. Make sure that you convert to Kelvin as soon as you can. Do it only once at the start and (if necessary for output) once at the end.\n",
    "\n",
    "* Choose good variable names. Don’t use single letters like `T`, `e` and `P` for variable names in a script. It makes it very hard to do search and replace with your editor when you want to change them, and the names aren’t very meaningful to others who might read your code. Also remember that Python is *case sensitive* so `P` and `p` are two different variables.\n",
    "\n",
    "* Just like the week 3 lab, we will endeavor to keep our code organized and readable. As much as you can, separate your script into 4 parts IN THIS ORDER:\n",
    "\n",
    "**1.  INPUTS:**  These  are  variables  whose  values  you  might  want  to  change  if  you  run  the  programmultiple times.\n",
    "\n",
    "**2.  INTERNAL DEFINITIONS or CONSTANTS:** These are variables that are defined as constantswhich you will never change, or some simple conversions (e.g. Celcius to Kelvin)\n",
    "\n",
    "**3.  CALCULATIONS:** This is where the complicated parts of the procedure go\n",
    "\n",
    "**4.  the OUTPUTS:** What you do once the math is finished (e.g. plotting).\n",
    "\n",
    "Also, It is useful to separate the parts by white space, and liberally comment your code. Note that not all tasks in 2 and 3 are easily separated, and sometimes plotting happens earlier than the end of the program, but it’s a good idea to always approach problems this way initially."
   ]
  },
  {
   "cell_type": "code",
   "execution_count": null,
   "id": "4a728def",
   "metadata": {},
   "outputs": [],
   "source": []
  }
 ],
 "metadata": {
  "jupytext": {
   "text_representation": {
    "extension": ".py",
    "format_name": "percent",
    "format_version": "1.3",
    "jupytext_version": "1.11.2"
   }
  },
  "kernelspec": {
   "display_name": "Python 3",
   "language": "python",
   "name": "python3"
  },
  "language_info": {
   "codemirror_mode": {
    "name": "ipython",
    "version": 3
   },
   "file_extension": ".py",
   "mimetype": "text/x-python",
   "name": "python",
   "nbconvert_exporter": "python",
   "pygments_lexer": "ipython3",
   "version": "3.9.4"
  }
 },
 "nbformat": 4,
 "nbformat_minor": 5
}

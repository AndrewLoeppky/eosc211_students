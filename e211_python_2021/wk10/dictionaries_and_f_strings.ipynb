{
 "cells": [
  {
   "cell_type": "markdown",
   "id": "8fc978ad",
   "metadata": {},
   "source": [
    "# Dictionaries, F String Literals\n",
    "\n",
    "## EOSC 211\n",
    "\n",
    "**Week 10 Day 1**\n",
    "\n",
    "**Learning Objectives:**  \n",
    "1. ?\n"
   ]
  },
  {
   "cell_type": "code",
   "execution_count": 8,
   "id": "3b628035",
   "metadata": {},
   "outputs": [],
   "source": [
    "# placeholder results (not the actual survey)\n",
    "transport = {\n",
    "    \"car\": [14, 2, 3, 4, 2, 15, 30],\n",
    "    \"bus\": [34, 40, 18, 14, 3, 1],\n",
    "    \"bike\": [21, 3, 4, 3, 4],\n",
    "    \"walk\": [14, 30, 40, 1, 2],\n",
    "}"
   ]
  },
  {
   "cell_type": "markdown",
   "id": "86dc7e81",
   "metadata": {},
   "source": [
    "## Question 1\n",
    "\n",
    "**`transport` is a dictionary containing the results from the poll in week 2. Write code to compute the following, and print your results using *f string literals*** \n",
    "\n",
    "**(you can import any packages you like. Keep your code succinct and well commented)**\n",
    "\n",
    "**A) The median commuting time for people who drive**"
   ]
  },
  {
   "cell_type": "code",
   "execution_count": 1,
   "id": "879f1368",
   "metadata": {},
   "outputs": [],
   "source": [
    "# your code here"
   ]
  },
  {
   "cell_type": "code",
   "execution_count": 11,
   "id": "6985c8f5",
   "metadata": {},
   "outputs": [
    {
     "name": "stdout",
     "output_type": "stream",
     "text": [
      "The median commute time for people who drive is 4.0 minutes\n"
     ]
    }
   ],
   "source": [
    "# andrew's soln\n",
    "import numpy as np\n",
    "\n",
    "drivemed = np.median(transport[\"car\"])\n",
    "print(f\"The median commute time for people who drive is {drivemed} minutes\")"
   ]
  },
  {
   "cell_type": "markdown",
   "id": "bbc9a814",
   "metadata": {},
   "source": [
    "**B) The number of people who ride bikes to UBC** "
   ]
  },
  {
   "cell_type": "code",
   "execution_count": 6,
   "id": "cfc90b67",
   "metadata": {},
   "outputs": [],
   "source": [
    "# your code here"
   ]
  },
  {
   "cell_type": "code",
   "execution_count": 12,
   "id": "f381a909",
   "metadata": {},
   "outputs": [
    {
     "name": "stdout",
     "output_type": "stream",
     "text": [
      "There are 5 cyclists in EOSC211 this semester.\n"
     ]
    }
   ],
   "source": [
    "# andrew's soln\n",
    "cyclists = len(transport[\"bike\"])\n",
    "\n",
    "print(f\"There are {cyclists} cyclists in EOSC211 this semester.\")"
   ]
  },
  {
   "cell_type": "markdown",
   "id": "55da8fa9",
   "metadata": {},
   "source": [
    "## Question 2\n",
    "\n",
    "!!!! no direct translation from matlab. formatted print statements are way less complicated in python. "
   ]
  }
 ],
 "metadata": {
  "jupytext": {
   "formats": "ipynb,md"
  },
  "kernelspec": {
   "display_name": "Python 3",
   "language": "python",
   "name": "python3"
  },
  "language_info": {
   "codemirror_mode": {
    "name": "ipython",
    "version": 3
   },
   "file_extension": ".py",
   "mimetype": "text/x-python",
   "name": "python",
   "nbconvert_exporter": "python",
   "pygments_lexer": "ipython3",
   "version": "3.9.4"
  }
 },
 "nbformat": 4,
 "nbformat_minor": 5
}

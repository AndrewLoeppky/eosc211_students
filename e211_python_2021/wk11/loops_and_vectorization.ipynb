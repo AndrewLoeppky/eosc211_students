{
 "cells": [
  {
   "cell_type": "markdown",
   "id": "407cbeaa",
   "metadata": {},
   "source": [
    "# Loops and Vectorization\n",
    "\n",
    "## EOSC 211\n",
    "\n",
    "**Week 5 Day 1**\n",
    "\n",
    "**Learning Objectives:**  \n",
    "1. Make code more efficient and cleaner by using vector operations instead of loops\n",
    "2. Get familiar with the timeit decorator\n",
    "\n"
   ]
  },
  {
   "cell_type": "markdown",
   "id": "344b7322",
   "metadata": {},
   "source": [
    "## Question 1\n",
    "\n",
    "**Re-write the following function without a loop**"
   ]
  },
  {
   "cell_type": "code",
   "execution_count": 1,
   "id": "5299921c",
   "metadata": {},
   "outputs": [],
   "source": [
    "import numpy as np\n",
    "x1 = np.random.rand(1000000)\n",
    "x2 = np.empty_like(x1)\n",
    "\n",
    "# rewrite this code\n",
    "def more_than_half(x1):\n",
    "    x2 = np.empty_like(x1)\n",
    "    for i in range(len(x1)):\n",
    "        if x1[i] > 0.5:\n",
    "            x2[i] = 1\n",
    "        else:\n",
    "            x2[i] = 0\n",
    "    return x2"
   ]
  },
  {
   "cell_type": "code",
   "execution_count": 2,
   "id": "5668589b",
   "metadata": {},
   "outputs": [],
   "source": [
    "# your code here"
   ]
  },
  {
   "cell_type": "code",
   "execution_count": 3,
   "id": "f8cb8afb",
   "metadata": {},
   "outputs": [
    {
     "name": "stdout",
     "output_type": "stream",
     "text": [
      "[0.97197273 0.92494125 0.0154044  0.79198366 0.49697246]\n",
      "[1. 1. 0. 1. 0.]\n"
     ]
    }
   ],
   "source": [
    "# andrew's soln\n",
    "def more_than_half(x1):\n",
    "    x2 = np.zeros_like(x1)\n",
    "    x2[np.where(x1 > 0.5)] = 1\n",
    "    return x2\n",
    "\n",
    "x2 = more_than_half(x1)\n",
    "print(x1[:5])\n",
    "print(x2[:5])"
   ]
  },
  {
   "cell_type": "markdown",
   "id": "ae5d32e3",
   "metadata": {},
   "source": [
    "## Question 2\n",
    "\n",
    "**Which of the two code snippets perform the operation faster? We can find out using the `timeit` module! The code below shows how long it takes for a simple function to run (the @ is called a *decorator function*, more info [here](my favorite decorator tutorial)). Modify the snippet below to time your functions for question 1.**"
   ]
  },
  {
   "cell_type": "code",
   "execution_count": 4,
   "id": "64cd6c1e",
   "metadata": {},
   "outputs": [
    {
     "data": {
      "text/plain": [
       "'time to run function: 0.03499603271484375 sec'"
      ]
     },
     "execution_count": 4,
     "metadata": {},
     "output_type": "execute_result"
    }
   ],
   "source": [
    "from wk11_functions import timeit\n",
    "\n",
    "@timeit\n",
    "def count_one_million():\n",
    "    for i in range(1000000):\n",
    "        x = i\n",
    "        \n",
    "count_one_million()"
   ]
  },
  {
   "cell_type": "code",
   "execution_count": 5,
   "id": "40e55505",
   "metadata": {},
   "outputs": [],
   "source": [
    "# your code here"
   ]
  },
  {
   "cell_type": "code",
   "execution_count": 6,
   "id": "7a4a7072",
   "metadata": {},
   "outputs": [
    {
     "name": "stdout",
     "output_type": "stream",
     "text": [
      "Loop:time to run function: 0.32505297660827637 sec\n",
      "Vector:time to run function: 0.009999990463256836 sec\n"
     ]
    }
   ],
   "source": [
    "# andrew's soln\n",
    "\n",
    "\n",
    "@timeit\n",
    "def loop(x1):  ## just copy and paste the function body\n",
    "    x2 = np.empty_like(x1)\n",
    "    for i in range(len(x1)):\n",
    "        if x1[i] > 0.5:\n",
    "            x2[i] = 1\n",
    "        else:\n",
    "            x2[i] = 0\n",
    "    return x2\n",
    "\n",
    "\n",
    "@timeit\n",
    "def vector(x1):\n",
    "    x2 = np.zeros_like(x1)\n",
    "    x2[np.where(x1 > 0.5)] = 1\n",
    "    return x2\n",
    "\n",
    "\n",
    "print(f\"Loop:{loop(x1)}\")\n",
    "print(f\"Vector:{vector(x1)}\")"
   ]
  },
  {
   "cell_type": "markdown",
   "id": "86135349",
   "metadata": {},
   "source": [
    "## Question 3\n",
    "\n",
    "**The points on a circle, radius $R$, centered at $(x_c,y_c)$ are given by**\n",
    "\n",
    "$$\n",
    "x = x_c + R cos(\\theta)\n",
    "$$\n",
    "$$\n",
    "y = y_c + R sin(\\theta)\n",
    "$$\n",
    "\n",
    "**where $\\theta$ is the angle between the x-axis and the line from the center of the circle to any given point on the circle.  i.e. $\\theta$ goes from $0$ to $2\\pi$.**\n",
    "\n",
    "**Write a function called `getcirc` that will take as input the variables `xc`, `yc`, `R` and the number of points on the circle `N` in that order and return numpy arrays `x` and `y` containing the x and y coordinates of the N points on the circle.**\n",
    "\n",
    "**Add a subfunction called checkRN that checks that the radius R is positive and that the number of points is at least 20 (for a reasonably smooth circle).**\n"
   ]
  },
  {
   "cell_type": "code",
   "execution_count": 7,
   "id": "8b3cd08d",
   "metadata": {},
   "outputs": [],
   "source": [
    "# your code here"
   ]
  },
  {
   "cell_type": "code",
   "execution_count": 24,
   "id": "feeeff66",
   "metadata": {},
   "outputs": [],
   "source": [
    "# andrew's soln\n",
    "def getcirc(xc, yc, R, N):\n",
    "    \"\"\"\n",
    "    Generates a circle of radius \"R\", centered at point (xc, yc), \n",
    "    containing N points. \n",
    "    \n",
    "    Returns circle coords x, y (numpy arrays)\n",
    "    \"\"\"\n",
    "    def check_RN(R, N):\n",
    "        \"\"\"\n",
    "        errors must not pass silently, unless explicitly silenced \n",
    "                                                             -T.P.\n",
    "        \"\"\"\n",
    "        if R < 0:\n",
    "            print(\"radius must be > 0\")\n",
    "        elif N < 20:\n",
    "            print(\"number of points must be > 20\")\n",
    "        else:\n",
    "            pass  \n",
    "        \n",
    "        return None\n",
    "    \n",
    "    check_RN(R, N)\n",
    "    \n",
    "    # or \n",
    "    assert (R > 0), \"radius must be > 0\"\n",
    "    assert (N >= 20), \"number of points must be >= 20\"\n",
    "    \n",
    "    theta = np.linspace(0, 2 * np.pi, N)\n",
    "    \n",
    "    x = xc + R * np.cos(theta)\n",
    "    y = yc + R * np.sin(theta)\n",
    "    \n",
    "    return x, y"
   ]
  },
  {
   "cell_type": "code",
   "execution_count": 26,
   "id": "9b6573ce",
   "metadata": {},
   "outputs": [
    {
     "data": {
      "text/plain": [
       "[<matplotlib.lines.Line2D at 0x28c3aa473d0>]"
      ]
     },
     "execution_count": 26,
     "metadata": {},
     "output_type": "execute_result"
    },
    {
     "data": {
      "image/png": "[encoded data removed]",
      "text/plain": [
       "<Figure size 432x288 with 1 Axes>"
      ]
     },
     "metadata": {
      "needs_background": "light"
     },
     "output_type": "display_data"
    }
   ],
   "source": [
    "# test out my function\n",
    "x, y = getcirc(1,1,10,20)\n",
    "\n",
    "from matplotlib import pyplot as plt\n",
    "plt.plot(x,y)"
   ]
  }
 ],
 "metadata": {
  "jupytext": {
   "formats": "ipynb,md"
  },
  "kernelspec": {
   "display_name": "Python 3 (ipykernel)",
   "language": "python",
   "name": "python3"
  },
  "language_info": {
   "codemirror_mode": {
    "name": "ipython",
    "version": 3
   },
   "file_extension": ".py",
   "mimetype": "text/x-python",
   "name": "python",
   "nbconvert_exporter": "python",
   "pygments_lexer": "ipython3",
   "version": "3.8.10"
  }
 },
 "nbformat": 4,
 "nbformat_minor": 5
}

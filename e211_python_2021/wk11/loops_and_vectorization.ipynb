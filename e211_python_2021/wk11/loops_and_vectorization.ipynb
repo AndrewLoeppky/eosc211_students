{
 "cells": [
  {
   "cell_type": "markdown",
   "id": "407cbeaa",
   "metadata": {},
   "source": [
    "# Loops and Vectorization\n",
    "\n",
    "## EOSC 211\n",
    "\n",
    "**Week 5 Day 1**\n",
    "\n",
    "**Learning Objectives:**  \n",
    "1. Make code more efficient and cleaner by using vector operations instead of loops\n",
    "2. Get familiar with the timeit decorator\n",
    "\n"
   ]
  },
  {
   "cell_type": "markdown",
   "id": "344b7322",
   "metadata": {},
   "source": [
    "## Question 1\n",
    "\n",
    "**Re-write the following function without a loop**"
   ]
  },
  {
   "cell_type": "code",
   "execution_count": 6,
   "id": "5299921c",
   "metadata": {},
   "outputs": [],
   "source": [
    "import numpy as np\n",
    "x1 = np.random.rand(1000000)\n",
    "x2 = np.empty_like(x1)\n",
    "\n",
    "# rewrite this code\n",
    "def more_than_half(x1):\n",
    "    x2 = np.empty_like(x1)\n",
    "    for i in range(len(x1)):\n",
    "        if x1[i] > 0.5:\n",
    "            x2[i] = 1\n",
    "        else:\n",
    "            x2[i] = 0\n",
    "    return x2"
   ]
  },
  {
   "cell_type": "code",
   "execution_count": 6,
   "id": "5668589b",
   "metadata": {},
   "outputs": [],
   "source": [
    "# your code here"
   ]
  },
  {
   "cell_type": "code",
   "execution_count": 8,
   "id": "f8cb8afb",
   "metadata": {},
   "outputs": [
    {
     "name": "stdout",
     "output_type": "stream",
     "text": [
      "[0.37169346 0.47183237 0.36339983 0.72647367 0.0481895 ]\n",
      "[0. 0. 0. 1. 0.]\n"
     ]
    }
   ],
   "source": [
    "# andrew's soln\n",
    "def more_than_half(x1):\n",
    "    x2 = np.zeros_like(x1)\n",
    "    x2[np.where(x1 > 0.5)] = 1\n",
    "    return x2\n",
    "\n",
    "x2 = more_than_half(x1)\n",
    "print(x1[:5])\n",
    "print(x2[:5])"
   ]
  },
  {
   "cell_type": "markdown",
   "id": "ae5d32e3",
   "metadata": {},
   "source": [
    "## Question 2\n",
    "\n",
    "**Which of the two code snippets perform the operation faster? We can find out using the `timeit` module! The code below shows how long it takes for a simple function to run (the @ is called a *decorator function*, more info [here](my favorite decorator tutorial)). Modify the snippet below to time your functions for question 1.**"
   ]
  },
  {
   "cell_type": "code",
   "execution_count": 2,
   "id": "64cd6c1e",
   "metadata": {},
   "outputs": [
    {
     "data": {
      "text/plain": [
       "'time to run function: 0.04748106002807617 sec'"
      ]
     },
     "execution_count": 2,
     "metadata": {},
     "output_type": "execute_result"
    }
   ],
   "source": [
    "from wk11_functions import timeit\n",
    "\n",
    "@timeit\n",
    "def count_one_million():\n",
    "    for i in range(1000000):\n",
    "        x = i\n",
    "        \n",
    "count_one_million()"
   ]
  },
  {
   "cell_type": "code",
   "execution_count": 4,
   "id": "40e55505",
   "metadata": {},
   "outputs": [],
   "source": [
    "# your code here"
   ]
  },
  {
   "cell_type": "code",
   "execution_count": 13,
   "id": "7a4a7072",
   "metadata": {},
   "outputs": [
    {
     "name": "stdout",
     "output_type": "stream",
     "text": [
      "Loop:time to run function: 0.32758140563964844 sec\n",
      "Vector:time to run function: 0.009711503982543945 sec\n"
     ]
    }
   ],
   "source": [
    "# andrew's soln\n",
    "\n",
    "\n",
    "@timeit\n",
    "def loop(x1):  ## just copy and paste the function body\n",
    "    x2 = np.empty_like(x1)\n",
    "    for i in range(len(x1)):\n",
    "        if x1[i] > 0.5:\n",
    "            x2[i] = 1\n",
    "        else:\n",
    "            x2[i] = 0\n",
    "    return x2\n",
    "\n",
    "\n",
    "@timeit\n",
    "def vector(x1):\n",
    "    x2 = np.zeros_like(x1)\n",
    "    x2[np.where(x1 > 0.5)] = 1\n",
    "    return x2\n",
    "\n",
    "\n",
    "print(f\"Loop:{loop(x1)}\")\n",
    "print(f\"Vector:{vector(x1)}\")"
   ]
  },
  {
   "cell_type": "markdown",
   "id": "86135349",
   "metadata": {},
   "source": [
    "## Question 3\n",
    "\n",
    "**The points on a circle, radius $R$, centered at $(x_c,y_c)$ are given by**\n",
    "\n",
    "$$\n",
    "x = x_c + R cos(\\theta)\n",
    "$$\n",
    "$$\n",
    "y = y_c + R sin(\\theta)\n",
    "$$\n",
    "\n",
    "**where $\\theta$ is the angle between the x-axis and the line from the center of the circle to any given point on the circle.  i.e. $\\theta$ goes from $0$ to $2\\pi$.**\n",
    "\n",
    "**Write a function called `getcirc` that will take as input the variables `xc`, `yc`, `R` and the number of points on the circle `N` in that order and return numpy arrays `x` and `y` containing the x and y coordinates of the N points on the circle.**\n",
    "\n",
    "**Add a subfunction called checkRN that checks that the radius R is positive and that the number of points is at least 20 (for a reasonably smooth circle).**\n"
   ]
  },
  {
   "cell_type": "code",
   "execution_count": 14,
   "id": "8b3cd08d",
   "metadata": {},
   "outputs": [],
   "source": [
    "# your code here"
   ]
  },
  {
   "cell_type": "code",
   "execution_count": null,
   "id": "feeeff66",
   "metadata": {},
   "outputs": [],
   "source": [
    "# andrew's soln\n",
    "def getcirc(xc, yc, R, N):\n",
    "    "
   ]
  }
 ],
 "metadata": {
  "kernelspec": {
   "display_name": "Python 3",
   "language": "python",
   "name": "python3"
  },
  "language_info": {
   "codemirror_mode": {
    "name": "ipython",
    "version": 3
   },
   "file_extension": ".py",
   "mimetype": "text/x-python",
   "name": "python",
   "nbconvert_exporter": "python",
   "pygments_lexer": "ipython3",
   "version": "3.9.4"
  }
 },
 "nbformat": 4,
 "nbformat_minor": 5
}

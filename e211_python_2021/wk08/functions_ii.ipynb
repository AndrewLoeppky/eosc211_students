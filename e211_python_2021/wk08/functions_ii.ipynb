{
 "cells": [
  {
   "cell_type": "markdown",
   "metadata": {},
   "source": [
    "# Functions II\n",
    "\n",
    "## EOSC 211\n",
    "\n",
    "**Week 8 Day 2**\n",
    "\n",
    "**Learning Objectives:**  \n",
    "1. Implement functions in your code\n",
    "2. Understand the difference between a *fruitful* function (one that returns a variable) and void functions (one that performs an action but does not return anything"
   ]
  },
  {
   "cell_type": "markdown",
   "metadata": {},
   "source": [
    "## Question 1\n",
    "\n",
    "**We have two input arrays, `x` which is distance and `tpro` which is elevation in kilometers (say, along a survey line). Both have shape (99,). Use a *loop* and an *if statement* to write out a new variable `tlow` that contains only the values in `tpro` when the elevation is less than -1.8km.**"
   ]
  },
  {
   "cell_type": "code",
   "execution_count": 11,
   "metadata": {},
   "outputs": [],
   "source": [
    "import numpy as np\n",
    "\n",
    "x = np.linspace(0, 1000, 100)  # km along the survey line\n",
    "tpro = 2 * np.sin(x)  # get some real topographical data here instead?\n",
    "\n",
    "# your code here"
   ]
  },
  {
   "cell_type": "code",
   "execution_count": 9,
   "metadata": {},
   "outputs": [
    {
     "name": "stdout",
     "output_type": "stream",
     "text": [
      "[ 0.         -0.62585878 -0.89698277  0.42291893  0.23728303 -0.79305028\n",
      " -0.7664708   0.19582243  0.46101272 -0.91494363 -0.59217888 -0.04245923\n",
      " -0.98457643 -0.38406237 -0.27831567 -0.99797133 -0.15400864 -0.49827503\n",
      " -0.95436322  0.08484189 -0.68977348 -0.85624296  0.3445131   0.31884634\n",
      " -0.84187284 -0.70921506  0.11191708 -0.94588537 -0.52167759 -0.12707152\n",
      " -0.99586998 -0.30434248 -0.35880194 -0.98897162 -0.06962366 -0.570038\n",
      " -0.92558431  0.48498335  0.16907197 -0.74871412 -0.80932866  0.26362294\n",
      "  0.39811041 -0.88462453 -0.64684506  0.02720468 -0.97000618 -0.4474144\n",
      " -0.21076748 -0.99998217 -0.22242793 -0.43670084 -0.97284029  0.01526338\n",
      " -0.63769034 -0.89013087  0.40903849  0.25208285 -0.80225568 -0.75657817\n",
      "  0.18083175  0.47450364 -0.92099707 -0.57981057 -0.0577039  -0.98713214\n",
      " -0.36992484 -0.29294357]\n"
     ]
    }
   ],
   "source": [
    "# andrew's soln\n",
    "tlow = np.array([])\n",
    "for i in tpro:\n",
    "    if i < 0.5:\n",
    "        tlow = np.append(tlow,i)\n",
    "\n",
    "print(tlow)"
   ]
  },
  {
   "cell_type": "markdown",
   "metadata": {},
   "source": [
    "## Question 2\n",
    "\n",
    "**Turn the code snippet above into a function that returns an array `tlow` that is exactly the same as Q1, but that takes as input (1) `tproin` and (2) a variable called `cutoff` that contains an arbitrary cut-off for the elevation  (ie, I might want to select elevations below -2km or -1.8 km or -1.5km, so make this a variable).**\n",
    "\n",
    "**Finally, call your function with tpro as the input data and a cutoff of 1.8km**"
   ]
  },
  {
   "cell_type": "code",
   "execution_count": 10,
   "metadata": {},
   "outputs": [],
   "source": [
    "# your code here"
   ]
  },
  {
   "cell_type": "code",
   "execution_count": 13,
   "metadata": {},
   "outputs": [
    {
     "data": {
      "text/plain": [
       "array([-1.82988727, -1.96915287, -1.99594266, -1.90872645, -1.89177074,\n",
       "       -1.99173997, -1.97794324, -1.85116862, -1.94001237, -1.99996433,\n",
       "       -1.94568058, -1.84199414, -1.97426428])"
      ]
     },
     "execution_count": 13,
     "metadata": {},
     "output_type": "execute_result"
    }
   ],
   "source": [
    "# andrew's soln\n",
    "def select_elev(in_data, cutoff):\n",
    "    \"\"\"\n",
    "    selects elements of a 1D np array in_data which are below the value cutoff.\n",
    "    returns elements of in_data which are below cutoff\n",
    "    \"\"\"\n",
    "    tlow = np.array([])\n",
    "    for i in tpro:\n",
    "        if i < cutoff:\n",
    "            tlow = np.append(tlow, i)\n",
    "    return tlow\n",
    "\n",
    "select_elev(tpro, -1.8)"
   ]
  },
  {
   "cell_type": "markdown",
   "metadata": {},
   "source": [
    "## Question 3\n",
    "\n",
    "**Modify your function to return a *tuple* containing the elevations below `cutoff`, and the *indexes* of where those elements are found; ie `(tlow, tlow_ind)`.**"
   ]
  },
  {
   "cell_type": "code",
   "execution_count": 14,
   "metadata": {},
   "outputs": [],
   "source": [
    "# your code here"
   ]
  },
  {
   "cell_type": "code",
   "execution_count": 19,
   "metadata": {},
   "outputs": [
    {
     "data": {
      "text/plain": [
       "(array([-1.79396554, -1.58610056, -1.5329416 , -1.82988727, -1.96915287,\n",
       "        -1.99594266, -1.90872645, -1.71248592, -1.68374568, -1.89177074,\n",
       "        -1.99173997, -1.97794324, -1.85116862, -1.61865731, -1.76924907,\n",
       "        -1.94001237, -1.99996433, -1.94568058, -1.78026173, -1.60451135,\n",
       "        -1.51315633, -1.84199414, -1.97426428]),\n",
       " array([ 3.,  6.,  8., 11., 16., 21., 26., 31., 34., 39., 44., 49., 54.,\n",
       "        59., 62., 67., 72., 77., 82., 85., 87., 90., 95.]))"
      ]
     },
     "execution_count": 19,
     "metadata": {},
     "output_type": "execute_result"
    }
   ],
   "source": [
    "# andrew's soln\n",
    "def select_elev2(in_data, cutoff):\n",
    "    \"\"\"\n",
    "    selects elements of a 1D np array in_data which are below the value cutoff.\n",
    "    returns elements of in_data which are below cutoff\n",
    "    \"\"\"\n",
    "    tlow = np.array([])\n",
    "    tlow_ind = np.array([])\n",
    "    for i in range(len(in_data)):\n",
    "        if in_data[i] < cutoff: \n",
    "            tlow_ind = np.append(tlow_ind, i)\n",
    "            tlow = np.append(tlow, in_data[i])\n",
    "    return tlow, tlow_ind\n",
    "\n",
    "low, ind = select_elev2(tpro, -1.5)\n",
    "low, ind"
   ]
  },
  {
   "cell_type": "markdown",
   "metadata": {},
   "source": [
    "## Question 4\n",
    "\n",
    "**Finally, I need not have used a loop and an “if” statement in the function.  How would I rewrite the body of the function in Exercise 2 to use logical indexing?  Note that the function call and function definition line don’t need to be changed.**"
   ]
  },
  {
   "cell_type": "code",
   "execution_count": 20,
   "metadata": {},
   "outputs": [],
   "source": [
    "# your code here"
   ]
  },
  {
   "cell_type": "code",
   "execution_count": 22,
   "metadata": {},
   "outputs": [
    {
     "data": {
      "text/plain": [
       "array([-1.82988727, -1.96915287, -1.99594266, -1.90872645, -1.89177074,\n",
       "       -1.99173997, -1.97794324, -1.85116862, -1.94001237, -1.99996433,\n",
       "       -1.94568058, -1.84199414, -1.97426428])"
      ]
     },
     "execution_count": 22,
     "metadata": {},
     "output_type": "execute_result"
    }
   ],
   "source": [
    "# andrew's soln\n",
    "def select_elev3(in_data, cutoff):\n",
    "    \"\"\"\n",
    "    selects elements of a 1D np array in_data which are below the value cutoff.\n",
    "    returns elements of in_data which are below cutoff\n",
    "    \"\"\"\n",
    "    return in_data[in_data < cutoff]\n",
    "    \n",
    "select_elev3(tpro, -1.8)"
   ]
  },
  {
   "cell_type": "code",
   "execution_count": null,
   "metadata": {},
   "outputs": [],
   "source": []
  }
 ],
 "metadata": {
  "jupytext": {
   "formats": "ipynb,md:myst"
  },
  "kernelspec": {
   "display_name": "Python 3 (ipykernel)",
   "language": "python",
   "name": "python3"
  },
  "language_info": {
   "codemirror_mode": {
    "name": "ipython",
    "version": 3
   },
   "file_extension": ".py",
   "mimetype": "text/x-python",
   "name": "python",
   "nbconvert_exporter": "python",
   "pygments_lexer": "ipython3",
   "version": "3.8.10"
  }
 },
 "nbformat": 4,
 "nbformat_minor": 4
}

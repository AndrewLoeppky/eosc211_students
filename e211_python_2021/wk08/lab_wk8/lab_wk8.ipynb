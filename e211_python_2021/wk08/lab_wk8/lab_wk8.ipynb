{
 "cells": [
  {
   "cell_type": "markdown",
   "id": "8f6890f1",
   "metadata": {},
   "source": [
    "for week 8 - all functions have return statements, even if its None\n",
    "positional arguments (file), kwargs (winlen=7), docstrings, scope. "
   ]
  }
 ],
 "metadata": {
  "jupytext": {
   "formats": "ipynb,md"
  },
  "kernelspec": {
   "display_name": "Python 3",
   "language": "python",
   "name": "python3"
  },
  "language_info": {
   "codemirror_mode": {
    "name": "ipython",
    "version": 3
   },
   "file_extension": ".py",
   "mimetype": "text/x-python",
   "name": "python",
   "nbconvert_exporter": "python",
   "pygments_lexer": "ipython3",
   "version": "3.9.4"
  }
 },
 "nbformat": 4,
 "nbformat_minor": 5
}

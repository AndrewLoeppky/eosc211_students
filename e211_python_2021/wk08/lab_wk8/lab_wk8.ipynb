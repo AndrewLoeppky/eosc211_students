{
 "cells": [
  {
   "cell_type": "markdown",
   "id": "cc62e88c",
   "metadata": {},
   "source": [
    "# Lab Week 8\n",
    "\n",
    "for week 8 - all functions have return statements, even if its None\n",
    "positional arguments (file), kwargs (winlen=7), docstrings, scope. \n",
    "\n",
    "sketch:\n",
    "\n",
    "functions make code reproducable, so you dont have to repeat yourself with large blocks of code\n",
    "\n",
    "we have been using functions this whole time \n",
    "\n",
    "parts of a function: definition, args, kwargs, docstring, body, return statement (just like input, process, output!)\n",
    "\n",
    "take code from wk6, package it in functions like so:"
   ]
  },
  {
   "cell_type": "code",
   "execution_count": 3,
   "id": "284e6899",
   "metadata": {},
   "outputs": [],
   "source": [
    "def check_inputs(winlen):\n",
    "    \"\"\"\n",
    "    checks that user inputs are an odd number and corrects them if not\n",
    "    \"\"\"\n",
    "    pass\n",
    "\n",
    "\n",
    "def running_mean(data, winlen=7):\n",
    "    \"\"\"\n",
    "    filters data with a running mean with window length winlen\n",
    "    \"\"\"\n",
    "    winlen = check_inputs(winlen) # what does this tell us about variable scope?\n",
    "    pass\n",
    "\n",
    "def running_median(data, winlen=7):\n",
    "    \"\"\"\n",
    "    filters data with a running median, window length winlen\n",
    "    \"\"\"\n",
    "    winlen = check_inputs(winlen)\n",
    "    pass\n",
    "\n"
   ]
  },
  {
   "cell_type": "markdown",
   "id": "e41af207",
   "metadata": {},
   "source": [
    "both the running mean and running median functions should *call* the check_inputs function. You can use functions to call functions. Keep track of which variables are passed where. \n",
    "\n",
    "Final hand in: for a given dataset, (something with interesting variability at widely varying timescales) make a plt.subplots(2) graph with the running mean in one frame and running median in the other. plot the data with many different sized windows, such that it would be laborious to try to copy/paste the original code from lab6"
   ]
  },
  {
   "cell_type": "code",
   "execution_count": null,
   "id": "5852a1f3",
   "metadata": {},
   "outputs": [],
   "source": [
    "# make 8 plots with 3 lines of code!\n",
    "windows = [1,3,7,11,21,32,100,155]\n",
    "for window in windows:\n",
    "    ax.plot(running_median(some_data, winlen=window))"
   ]
  }
 ],
 "metadata": {
  "jupytext": {
   "formats": "ipynb,md"
  },
  "kernelspec": {
   "display_name": "Python 3 (ipykernel)",
   "language": "python",
   "name": "python3"
  },
  "language_info": {
   "codemirror_mode": {
    "name": "ipython",
    "version": 3
   },
   "file_extension": ".py",
   "mimetype": "text/x-python",
   "name": "python",
   "nbconvert_exporter": "python",
   "pygments_lexer": "ipython3",
   "version": "3.8.10"
  }
 },
 "nbformat": 4,
 "nbformat_minor": 5
}

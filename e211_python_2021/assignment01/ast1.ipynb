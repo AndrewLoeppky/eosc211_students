{
 "cells": [
  {
   "cell_type": "markdown",
   "id": "bf9b9484",
   "metadata": {},
   "source": [
    "# Assignment 1\n",
    "\n",
    "## EOSC 211\n",
    "\n",
    "logistics, partner collaboration, due dates\n",
    "\n",
    "### notes for andrew:\n",
    "\n",
    "part 1: I can use if elif else, loops, numpy arrays, logical indexing, annotate, subplots, type casting\n",
    "\n",
    "part 2: I can use f strings, maybe dictionaries, maybe functions\n",
    "\n",
    "## Introduction\n",
    "\n",
    "The ocean in the Salish Sea is affected by tidal forces,  wind, and spatial changes in density,  all of which drive currents.  What do these currents do?  If we release a floating object in the Strait of Georgia (the part of the Salish Sea right beside Vancouver), where will it end up?  Simple questions like turn out to be surprisingly difficult to answer. At present, we do know that there is an “estuarine” circulation in the Salish Sea.  Fresh water flows in from the Fraser River just south of Richmond.  This fresh water eventually ends up in the Pacific*.  So, there is a mean flow of surface water out of the Fraser, south past Victoria and then west out to the Pacific$^†$.  We also know that it takes a few weeks to get there, and so objects floating in the Strait probably also take about that long to leave our waters. But we would like to get a better idea of what the mean speed of their drift is, and how this mean might change from time to time. \n",
    "\n",
    "Over the past few years, the [ODL drifters project](www.drifters.eoas.ubc.ca) has been releasing GPS-tracked drifters into the Strait of Georgia near the mouth of the Fraser River, in order to better understand how the surface water flows out to the Pacific. In the assignment, you will analyze some of the data from this project.\n",
    "\n",
    "---\n",
    "\\* If it didn’t, the whole area would eventually be full of fresh water only, but it isn’t\n",
    "\n",
    "† We think that very little goes around the northern tip of Vancouver Island because there is only a narrow channel separating it from the mainland there\n",
    "\n",
    "## Part 1: Summary Plot\n",
    "\n",
    "text"
   ]
  },
  {
   "cell_type": "code",
   "execution_count": 1,
   "id": "301a8c58",
   "metadata": {},
   "outputs": [],
   "source": [
    "## get data (put this in the library when complete)\n",
    "import numpy as np\n",
    "from scipy.io import loadmat\n",
    "from e211_lib import e211\n",
    "from matplotlib import pyplot as plt"
   ]
  },
  {
   "cell_type": "code",
   "execution_count": 32,
   "id": "31a91a7a",
   "metadata": {},
   "outputs": [
    {
     "data": {
      "text/plain": [
       "'{\"drifter_id\":drifter_id, # 1\\n            \"design\":design, # 1\\n            \"tzone\":tzone, # 1\\n            \"mtime\":mtime, # n\\n            \"lon\":lon, # n\\n            \"lon\":lat, # n\\n            \"comment\":comment, # 1\\n            \"at_sea\":at_sea, # n\\n            \"ends_on_land\":ends_on_land, # 1\\n            \"found_on_land\":found_on_land, # 1\\n            \"launchdate\":launchdate, # 1\\n            \"enddate\":enddate, # 1\\n            \"lifetime\":lifetime, # 1\\n            \"refloated\":refloated, # 1\\n            \"first_ground_date\":first_ground_date, # 1\\n            \"first_lifetime\":first_lifetime} # 1\\n'"
      ]
     },
     "execution_count": 32,
     "metadata": {},
     "output_type": "execute_result"
    }
   ],
   "source": [
    "## pythonify the dataset. (clean it up by hand...) ##\n",
    "\n",
    "# import the whole dataset\n",
    "matdata = loadmat(\"Drifter_dataset.mat\")\n",
    "matdata = matdata[\"D\"].flatten()\n",
    "\n",
    "drifter_id = np.concatenate(matdata[\"id\"]).flatten() # drifter ID \n",
    "design = np.concatenate(matdata[\"design\"]).flatten() # 1-6 which type of drifter\n",
    "\n",
    "tzone = np.concatenate(matdata[\"tzone\"]).flatten() # time zone\n",
    "mtime = matdata[\"mtime\"]  # time in matlab ordinal (decimal days since jan1/0000)\n",
    "\n",
    "# create a new array datetime to replace messy mtime\n",
    "datetime = np.empty_like(mtime, dtype=\"O\")\n",
    "for m in range(len(mtime)):\n",
    "    timestamp = np.empty(len(mtime[m]), dtype=\"O\")\n",
    "    for n in range(len(mtime[m].flatten())):\n",
    "        timestamp[n] = e211.mdate_to_datetime(mtime[m][n,0])\n",
    "    datetime[m] = timestamp\n",
    "\n",
    "lon_in = matdata[\"lon\"]  # drifter lons\n",
    "\n",
    "# create new variable lons containing restructured longitudes\n",
    "lons = np.empty_like(lon_in, dtype=\"O\")\n",
    "for m in range(len(lon_in)):\n",
    "    lon = np.empty(len(lon_in[m]))\n",
    "    for n in range(len(lon_in[m])):\n",
    "        lon[n] = lon_in[m][n]\n",
    "    lons[m] = lon\n",
    "\n",
    "lat_in = matdata[\"lat\"] # drifter lats\n",
    "\n",
    "# same treatment for lats\n",
    "lats = np.empty_like(lat_in, dtype=\"O\")\n",
    "for m in range(len(lat_in)):\n",
    "    lat = np.empty(len(lat_in[m]))\n",
    "    for n in range(len(lat_in[m])):\n",
    "        lat[n] = lat_in[m][n]\n",
    "    lats[m] = lat\n",
    "\n",
    "comment = np.concatenate(matdata[\"comment\"]).flatten()  # metadata\n",
    "at_sea = matdata[\"atSea\"]  # status codes for working/landed drifters\n",
    "\n",
    "ends_on_land = matdata[\"endsOnLand\"].flatten() # change from 1/0 logic to Python booleans\n",
    "ends_on_land[ends_on_land == 1] = True\n",
    "ends_on_land[ends_on_land == 0] = False\n",
    "\n",
    "found_on_land = matdata[\"foundOnLand\"].flatten() # use booleans not 1/0\n",
    "found_on_land[found_on_land == 1] = True\n",
    "found_on_land[found_on_land == 0] = False\n",
    "\n",
    "launchdate = np.concatenate(matdata[\"launchDate\"]).flatten()\n",
    "enddate = np.concatenate(matdata[\"endDate\"]).flatten()  # neither is this\n",
    "\n",
    "lifetime = np.concatenate(matdata[\"lifeTime\"]).flatten()  # decimal days from launchDate to endDate\n",
    "\n",
    "refloated = matdata[\"refloated\"] # change to py logical\n",
    "refloated[refloated == 1] == True\n",
    "refloated[refloated == 0] == False\n",
    "\n",
    "first_ground_date = matdata[\"firstGrndDate\"] # - float: matlab time for first grounding\n",
    "                                             #- matlab time of first of a string of atSea~=1, unless\n",
    "                                             # the last point in the record has atSea==1 and\n",
    "                                             # endsOnLand==1 in which case it is the time of the last\n",
    "                                             # point.\n",
    "\n",
    "first_lifetime = matdata[\"firstLifeTime\"]    # - float: decimal days from launch to first grounding\n",
    "                                             # - 0 if endsOnLand==0 & refloated==0\n",
    "    \n",
    "vars_dict = {}\n",
    "'''{\"drifter_id\":drifter_id, # 1\n",
    "            \"design\":design, # 1\n",
    "            \"tzone\":tzone, # 1\n",
    "            \"mtime\":mtime, # n\n",
    "            \"lon\":lon, # n\n",
    "            \"lon\":lat, # n\n",
    "            \"comment\":comment, # 1\n",
    "            \"at_sea\":at_sea, # n\n",
    "            \"ends_on_land\":ends_on_land, # 1\n",
    "            \"found_on_land\":found_on_land, # 1\n",
    "            \"launchdate\":launchdate, # 1\n",
    "            \"enddate\":enddate, # 1\n",
    "            \"lifetime\":lifetime, # 1\n",
    "            \"refloated\":refloated, # 1\n",
    "            \"first_ground_date\":first_ground_date, # 1\n",
    "            \"first_lifetime\":first_lifetime} # 1\n",
    "'''\n",
    "# save as JSON"
   ]
  },
  {
   "cell_type": "code",
   "execution_count": 34,
   "id": "b415445c",
   "metadata": {},
   "outputs": [
    {
     "data": {
      "text/plain": [
       "153"
      ]
     },
     "execution_count": 34,
     "metadata": {},
     "output_type": "execute_result"
    }
   ],
   "source": []
  },
  {
   "cell_type": "code",
   "execution_count": null,
   "id": "4303e448",
   "metadata": {},
   "outputs": [],
   "source": []
  },
  {
   "cell_type": "code",
   "execution_count": null,
   "id": "5a1d724d",
   "metadata": {},
   "outputs": [],
   "source": []
  },
  {
   "cell_type": "code",
   "execution_count": null,
   "id": "a18dca6c",
   "metadata": {},
   "outputs": [],
   "source": []
  },
  {
   "cell_type": "code",
   "execution_count": null,
   "id": "cbfe56fa",
   "metadata": {},
   "outputs": [],
   "source": []
  },
  {
   "cell_type": "code",
   "execution_count": null,
   "id": "818d53a8",
   "metadata": {},
   "outputs": [],
   "source": []
  },
  {
   "cell_type": "code",
   "execution_count": null,
   "id": "c0023c61",
   "metadata": {},
   "outputs": [],
   "source": []
  }
 ],
 "metadata": {
  "jupytext": {
   "formats": "ipynb,md"
  },
  "kernelspec": {
   "display_name": "Python 3",
   "language": "python",
   "name": "python3"
  },
  "language_info": {
   "codemirror_mode": {
    "name": "ipython",
    "version": 3
   },
   "file_extension": ".py",
   "mimetype": "text/x-python",
   "name": "python",
   "nbconvert_exporter": "python",
   "pygments_lexer": "ipython3",
   "version": "3.9.4"
  }
 },
 "nbformat": 4,
 "nbformat_minor": 5
}

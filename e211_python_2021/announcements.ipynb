{
 "cells": [
  {
   "cell_type": "markdown",
   "id": "db8082db",
   "metadata": {},
   "source": [
    "# Course Home/Announcements\n",
    "\n",
    "Info about due dates, midterms, etc goes here"
   ]
  },
  {
   "cell_type": "markdown",
   "id": "73c3e732",
   "metadata": {},
   "source": [
    "## unresolved bugs in course material\n",
    "\n",
    "last updated 08/15/21 AL\n",
    "\n",
    "- images aren't being displayed, `<img src=\"runningmean.png\" width=\"300\">`\n",
    "- lab week5: user inputs cannot be built to a jupyter book\n",
    "- worksheet 2 week 6: same issue as above\n",
    "- e211_lib/e211: mdate_to_datetime doesn't work on an array. change format to arrow and re-hash for vectorized dates\n"
   ]
  }
 ],
 "metadata": {
  "jupytext": {
   "cell_metadata_filter": "-all",
   "notebook_metadata_filter": "-all",
   "text_representation": {
    "extension": ".md",
    "format_name": "markdown"
   }
  },
  "kernelspec": {
   "display_name": "Python 3 (ipykernel)",
   "language": "python",
   "name": "python3"
  },
  "language_info": {
   "codemirror_mode": {
    "name": "ipython",
    "version": 3
   },
   "file_extension": ".py",
   "mimetype": "text/x-python",
   "name": "python",
   "nbconvert_exporter": "python",
   "pygments_lexer": "ipython3",
   "version": "3.8.10"
  }
 },
 "nbformat": 4,
 "nbformat_minor": 5
}

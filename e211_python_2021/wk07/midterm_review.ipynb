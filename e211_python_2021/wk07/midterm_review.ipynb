{
 "cells": [
  {
   "cell_type": "markdown",
   "metadata": {},
   "source": [
    "# Midterm Review\n",
    "\n",
    "## EOSC 211\n",
    "\n",
    "**Week 7 Day 1**"
   ]
  },
  {
   "cell_type": "markdown",
   "metadata": {},
   "source": [
    "## Question 1\n",
    "\n",
    "**If  `a = np.array([7, 6, 5, 4, 3, 2, 1])`, what would be the values of  `b`, `c`, `d`, and `e` if:** \n",
    "\n",
    "\n",
    "`b = a[1:3:7]`\n",
    "\n",
    "`c = [a / 2]`\n",
    "\n",
    "`d = a[1:2] @ a[5:6]`\n",
    "\n",
    "`e = np.array([[1, 1],[2, 2]]) @ np.array([a[0:2],a[1:3]])`\n",
    "\n",
    "**Determine the output as well as the data type of the output**"
   ]
  },
  {
   "cell_type": "code",
   "execution_count": 1,
   "metadata": {},
   "outputs": [],
   "source": [
    "# your code here"
   ]
  },
  {
   "cell_type": "code",
   "execution_count": 2,
   "metadata": {},
   "outputs": [
    {
     "name": "stdout",
     "output_type": "stream",
     "text": [
      "[7 6 5 4 3 2 1] <class 'numpy.ndarray'>\n",
      "[6] <class 'numpy.ndarray'>\n",
      "[array([3.5, 3. , 2.5, 2. , 1.5, 1. , 0.5])] <class 'list'>\n",
      "12 <class 'numpy.int32'>\n",
      "[[13 11]\n",
      " [26 22]] <class 'numpy.ndarray'>\n"
     ]
    }
   ],
   "source": [
    "# andrew's soln\n",
    "import numpy as np\n",
    "\n",
    "a = np.array([7, 6, 5, 4, 3, 2, 1])\n",
    "b = a[1:3:7]\n",
    "c = [a / 2]\n",
    "d = a[1:2] @ a[5:6]\n",
    "e = np.array([[1, 1], [2, 2]]) @ np.array([a[0:2], a[1:3]])\n",
    "for i in [a, b, c, d, e]:\n",
    "    print(i, type(i))"
   ]
  },
  {
   "cell_type": "markdown",
   "metadata": {},
   "source": [
    "## Question 2\n",
    "\n",
    "**What is the result of the following expressions?**\n",
    "\n",
    "**A)** `6 == 2 + 3 * 1`\n",
    "\n",
    "**B)** `14 > np.arange(6,2,-1) * 3 + 1`\n",
    "\n",
    "**C)** `3 ** 0 / 4 - -3 / np.array([4, 3])`"
   ]
  },
  {
   "cell_type": "code",
   "execution_count": 3,
   "metadata": {},
   "outputs": [],
   "source": [
    "# your code here"
   ]
  },
  {
   "cell_type": "code",
   "execution_count": 4,
   "metadata": {},
   "outputs": [
    {
     "name": "stdout",
     "output_type": "stream",
     "text": [
      "False\n",
      "[False False  True  True]\n",
      "[1.   1.25]\n"
     ]
    },
    {
     "data": {
      "text/plain": [
       "[None, None, None]"
      ]
     },
     "execution_count": 4,
     "metadata": {},
     "output_type": "execute_result"
    }
   ],
   "source": [
    "# andrew's soln\n",
    "a = 6 == 2 + 3 * 1\n",
    "b = 14 > np.arange(6,2,-1) * 3 + 1\n",
    "c = 3 ** 0 / 4 - -3 / np.array([4, 3])\n",
    "\n",
    "[print(letter) for letter in [a,b,c]]\n",
    "\n",
    "## this is too easy?"
   ]
  },
  {
   "cell_type": "markdown",
   "metadata": {},
   "source": [
    "## Question 3\n",
    "\n",
    "**This cell is supposed to find local minimums in the input time series, i.e. points that have values less than their neighbours on either side, and return their indices in `x`. But it has some bugs in it. Explain what they are and fix them.**"
   ]
  },
  {
   "cell_type": "markdown",
   "metadata": {},
   "source": [
    "```python\n",
    "# fix this code\n",
    "# y is a 1x100 array given as input\n",
    "a = np.linspace(0,4*np.pi,100)\n",
    "y = np.sin(a)\n",
    "k = 0\n",
    "while k < 100:\n",
    "    if y[k] < y[k + 1] and y[k] > y[k - 1]:\n",
    "        x[k] = k\n",
    "    k = k - 1\n",
    "```"
   ]
  },
  {
   "cell_type": "code",
   "execution_count": 5,
   "metadata": {},
   "outputs": [
    {
     "name": "stdout",
     "output_type": "stream",
     "text": [
      "[37. 87.]\n"
     ]
    }
   ],
   "source": [
    "# andrew's soln\n",
    "a = np.linspace(0,4 * np.pi,100)\n",
    "y = np.sin(a)\n",
    "x = np.array([]) # we need to create an empty array to add to\n",
    "k = 1 # since we need to reference k-1, start at the second element of the array and end at the second last\n",
    "while k < len(y)-1: # this is better than hardcoding the limits for k. what if y changes?\n",
    "    if y[k] < y[k+1] and y[k] < y[k-1]:\n",
    "        x = np.append(x,k) \n",
    "    k += 1 # iterate forward, not backward\n",
    "\n",
    "print(x)"
   ]
  }
 ],
 "metadata": {
  "kernelspec": {
   "display_name": "Python 3 (ipykernel)",
   "language": "python",
   "name": "python3"
  },
  "language_info": {
   "codemirror_mode": {
    "name": "ipython",
    "version": 3
   },
   "file_extension": ".py",
   "mimetype": "text/x-python",
   "name": "python",
   "nbconvert_exporter": "python",
   "pygments_lexer": "ipython3",
   "version": "3.8.10"
  }
 },
 "nbformat": 4,
 "nbformat_minor": 4
}

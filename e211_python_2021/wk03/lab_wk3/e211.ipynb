{
 "cells": [
  {
   "cell_type": "code",
   "execution_count": 1,
   "id": "c7b8c197",
   "metadata": {},
   "outputs": [],
   "source": [
    "'''\n",
    "e211 Function library\n",
    "\n",
    "author: Andrew Loeppky\n",
    "course: eosc 211 - computer methods for earth, ocean and atmospheric scientists\n",
    "''';"
   ]
  },
  {
   "cell_type": "code",
   "execution_count": 2,
   "id": "94fabda6",
   "metadata": {},
   "outputs": [],
   "source": [
    "from PIL import Image\n",
    "import numpy as np"
   ]
  },
  {
   "cell_type": "code",
   "execution_count": 3,
   "id": "652214ba",
   "metadata": {},
   "outputs": [],
   "source": [
    "def load_oceancolor(my_image):\n",
    "    \"\"\"\n",
    "    takes in a png image and returns a scaled numpy array. Scaling is set for\n",
    "    https://oceancolor.gsfc.nasa.gov chlorophyl concentration files\n",
    "    \"\"\"\n",
    "    img_in = Image.open(my_image)\n",
    "    img_np = np.asarray(img_in)\n",
    "    # default img -- 255->0mg/m3, 0->20mg/m3\n",
    "    img_scaled = -(img_np - 255) * (20 / 256) # this should acrualbe log scaled\n",
    "    return img_scaled"
   ]
  },
  {
   "cell_type": "code",
   "execution_count": null,
   "id": "b5c28280",
   "metadata": {},
   "outputs": [],
   "source": []
  }
 ],
 "metadata": {
  "jupytext": {
   "cell_metadata_filter": "-all",
   "notebook_metadata_filter": "-all",
   "text_representation": {
    "extension": ".py",
    "format_name": "percent"
   }
  },
  "kernelspec": {
   "display_name": "Python 3",
   "language": "python",
   "name": "python3"
  },
  "language_info": {
   "codemirror_mode": {
    "name": "ipython",
    "version": 3
   },
   "file_extension": ".py",
   "mimetype": "text/x-python",
   "name": "python",
   "nbconvert_exporter": "python",
   "pygments_lexer": "ipython3",
   "version": "3.8.10"
  }
 },
 "nbformat": 4,
 "nbformat_minor": 5
}

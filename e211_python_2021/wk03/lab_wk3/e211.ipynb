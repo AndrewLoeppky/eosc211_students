{
 "cells": [
  {
   "cell_type": "code",
   "execution_count": null,
   "id": "33f0d1c3",
   "metadata": {},
   "outputs": [],
   "source": [
    "'''\n",
    "e211 Function library\n",
    "\n",
    "author: Andrew Loeppky\n",
    "course: eosc 211 - computer methods for earth, ocean and atmospheric scientists\n",
    "''';"
   ]
  },
  {
   "cell_type": "code",
   "execution_count": 1,
   "id": "fb4125a2",
   "metadata": {},
   "outputs": [],
   "source": [
    "from PIL import Image\n",
    "import numpy as np\n",
    "from scipy.io import loadmat"
   ]
  },
  {
   "cell_type": "code",
   "execution_count": null,
   "id": "ca83ba9d",
   "metadata": {},
   "outputs": [],
   "source": [
    "def load_oceancolor(my_image):\n",
    "    \"\"\"\n",
    "    takes in a png image and returns a scaled numpy array. Scaling is set for\n",
    "    https://oceancolor.gsfc.nasa.gov chlorophyl concentration files\n",
    "    \"\"\"\n",
    "    img_in = Image.open(my_image)\n",
    "    img_np = np.asarray(img_in)\n",
    "    # default img -- 255->0mg/m3, 0->20mg/m3\n",
    "    img_scaled = -(img_np - 255) * (20 / 256) # this should acrualbe log scaled\n",
    "    return img_scaled"
   ]
  },
  {
   "cell_type": "code",
   "execution_count": 1,
   "id": "e9b3d4ad",
   "metadata": {
    "lines_to_next_cell": 2
   },
   "outputs": [],
   "source": [
    "def load_mat(my_data):\n",
    "    \"\"\"\n",
    "    designed to load the bathymetry data for lab week 3\n",
    "    \"\"\"\n",
    "    # get data\n",
    "    matfile = loadmat(my_data)\n",
    "\n",
    "    # format data into something we can use\n",
    "    # loadmat outputs a dictionary of np arrays. This code extracts the dictionary values to variables\n",
    "    lon = matfile[\"bath\"][0][0][0].flatten() # extract latitude array\n",
    "    lat = matfile[\"bath\"][0][0][1].flatten() # extract longitude array\n",
    "    bath = matfile[\"bath\"][0][0][2]\n",
    "    return bath"
   ]
  }
 ],
 "metadata": {
  "jupytext": {
   "cell_metadata_filter": "-all",
   "notebook_metadata_filter": "-all",
   "text_representation": {
    "extension": ".py",
    "format_name": "percent"
   }
  },
  "kernelspec": {
   "display_name": "Python 3",
   "language": "python",
   "name": "python3"
  },
  "language_info": {
   "codemirror_mode": {
    "name": "ipython",
    "version": 3
   },
   "file_extension": ".py",
   "mimetype": "text/x-python",
   "name": "python",
   "nbconvert_exporter": "python",
   "pygments_lexer": "ipython3",
   "version": "3.9.4"
  }
 },
 "nbformat": 4,
 "nbformat_minor": 5
}

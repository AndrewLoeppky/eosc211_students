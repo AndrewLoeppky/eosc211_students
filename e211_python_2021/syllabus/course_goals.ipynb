{
 "cells": [
  {
   "cell_type": "markdown",
   "id": "1d5e7033",
   "metadata": {},
   "source": [
    "# course syllabus\n",
    "\n",
    "## Old Syllabus \n",
    "\n",
    "### Course Level Learning Goals\n",
    "\n",
    "1.  Students will write computer programs to model and analyze data in the solid earth, atmospheric,\n",
    " and oceanographic sciences. This requires:\n",
    "\n",
    "2.  Breaking problems into logical steps using flowcharts and pseudocode to specify algorithms: Operation; repetition; decision and input/output steps; computer math\n",
    "\n",
    "3.  Writing and debugging MATLAB code to correctly implement algorithms: syntax and datastructures; debugging strategies\n",
    "\n",
    "4.  Modifying existing MATLAB code,  using the elements of good programming style,  to make  it  more  efficient,  readable,  and  documented  for  future  use:  naming  conventions;appropriate syntax;  structures;  modularization using functions;  using built-in functions;code reuse; good documentation  practices; vectorization of loop operations\n",
    "\n",
    "5.  Creating scientifically informative and visually appealing plots (scatterplots, time series,contours,  multiple subplots, legends)\n",
    "\n"
   ]
  },
  {
   "cell_type": "markdown",
   "id": "c9b123e7",
   "metadata": {},
   "source": [
    "##  New Syllabus Brainstorming ###################\n",
    "\n",
    "HARD SKILLS:\n",
    "\n",
    "- differentiate between and know the basic operations related to\n",
    "  string, int, float, boolean, none, list, set, tuple, dictionary\n",
    "- manipulate numpy array, pandas dataframe(?)\n",
    "- make pretty plots\n",
    "- define functions so you DRY (dont repeat yourself)\n",
    "- use a shell or terminal to do stuff\n",
    "- debug code\n",
    "- google your way out of problems -- this is important\n",
    "- develop a workflow that works BEYOND eosc211 -- i do all my hw assignments now in jupyter...\n",
    "\n",
    "SOFT SKILLS:\n",
    "\n",
    "- be confident going from earth/ocean/atmosphere -> numerical dataset -> code -> scientific conclusion\n",
    "- appreciate computational principles and apply some of them: abstraction, efficiency, modularization\n",
    "- understand the relationship between GUIs, high level languages, low level languages, assembly code\n",
    "- foster an appropriate desire for efficient/elegant/pythonic code and fear/hatred of cludges without going overboard\n",
    "- appreciate that there are many ways to solve a single problem and some are better than others\n",
    "- confidence with viewing/using a computer like a programmer - shells/terminals, code, vocabulary like 'back end,' 'gui'\n",
    "\n",
    "BIG PRINCIPLES:\n",
    "- coding is hard and i feel like i have no idea what im doing and everyone is smarter than me. thats fine\n",
    "- DRY and YANGNI\n",
    "- Make it look good\n",
    "- Keep your hard drive organized just like you would a lab bench\n",
    "- namespaces are one honking great idea -- lets do more of those\n",
    "\n"
   ]
  },
  {
   "cell_type": "markdown",
   "id": "d810c392",
   "metadata": {},
   "source": [
    " week | worksheets | lab\n",
    " ---  |--- |   --- |\n",
    " 1| none | none\n",
    " 2| algorithm design, intro to python, built in functions, data types | intro to jupyterlab (not yet created)\n",
    " 3|intro to numpy arrays, built in functions, slicing *ZOP*| matplotlib, scientific figures, [import, input, process, output], array manipulation\n",
    " 4| DNE | math, code structuring, plt subplots\n",
    " 5| logic, `if elif else` | plt.annotate(), f strings, type casting, user input\n",
    " 6| loops | filtering with running mean/median, implemented with loops (slow)\n",
    " 7| MIDTERM\n",
    " 8| functions | re-do lab 6 with functions\n",
    " 9| debugging and error types (off by one, fencepost) | go through a \"large\" functional program, using dictionaries, `*args, **kwargs` \n",
    " 10| dictionaries and f strings | DNE\n",
    " 11| vectorization and speed | interpolation with scipy\n",
    " 12| vectorization practice, file IO (csv) | DNE\n",
    " 13| review, linear algebra | DNE\n",
    " \n",
    "#### things that arent in e211 that should be(?):\n",
    "\n",
    "* formal discussion of objects\n",
    "* pandas\n",
    "* xarray\n",
    "* geopandas -- for the gis students\n",
    "* scipy for linalg, integrations\n",
    "* DIY python, how to set up your own workflow\n",
    "* shell tutorial\n",
    "* timeit module\n",
    "* numba?\n",
    "* intro to git\n",
    "* file IO with python\n",
    "* datetime\n",
    "\n",
    "\n",
    "\n"
   ]
  }
 ],
 "metadata": {
  "jupytext": {
   "formats": "ipynb,md"
  },
  "kernelspec": {
   "display_name": "Python 3",
   "language": "python",
   "name": "python3"
  },
  "language_info": {
   "codemirror_mode": {
    "name": "ipython",
    "version": 3
   },
   "file_extension": ".py",
   "mimetype": "text/x-python",
   "name": "python",
   "nbconvert_exporter": "python",
   "pygments_lexer": "ipython3",
   "version": "3.8.10"
  }
 },
 "nbformat": 4,
 "nbformat_minor": 5
}

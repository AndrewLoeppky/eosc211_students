{
 "cells": [
  {
   "cell_type": "markdown",
   "id": "239e46f1",
   "metadata": {},
   "source": [
    "# Dates and Times\n",
    "\n",
    "## EOSC 211\n",
    "\n",
    "**Week ? Day ?**\n",
    "\n",
    "**Learning Objectives:**  \n",
    "1. describe what the unix epoch is\n",
    "2. convert from strings, unix epoch to arrow objects and back\n",
    "3. use built in functions to calculate timedeltas\n",
    "\n",
    "Very frequently we encounter *time series* data in the earth, ocean and atmospheric sciences. Here we will practice parsing dates and times with python, and use the *Arrow* library to convert between several different possible date and time formats. Finally, we will use our skills to generate a plot of a real dataset and do some calculations using *Arrow datetime objects.*"
   ]
  },
  {
   "cell_type": "code",
   "execution_count": 1,
   "id": "fcdfea19",
   "metadata": {},
   "outputs": [],
   "source": [
    "import arrow\n",
    "import numpy as np\n",
    "from matplotlib import pyplot as plt"
   ]
  },
  {
   "cell_type": "markdown",
   "id": "dd5e1c25",
   "metadata": {},
   "source": [
    "### Question 1\n",
    "\n",
    "**Write today's date and the current time in 5 different ways. Which is the easiest to read for you? Which would be the easiest to parse with a computer?**"
   ]
  },
  {
   "cell_type": "markdown",
   "id": "29f0e91a",
   "metadata": {},
   "source": [
    "your answer here"
   ]
  },
  {
   "cell_type": "markdown",
   "id": "34da8863",
   "metadata": {},
   "source": [
    "**andrew's soln**\n",
    "\n",
    "15:45 August 17th, 2021 << my favorite\n",
    "\n",
    "2021-08-17 3:45pm \n",
    "\n",
    "1545.8.17.21\n",
    "\n",
    "17/08/21 15:45:21 << probably easiest to compute? \n",
    "\n",
    "quarter to four in the afternoon on the seventeenth day of august in year of our lord, two thousand twenty one"
   ]
  },
  {
   "cell_type": "markdown",
   "id": "53c6d95c",
   "metadata": {},
   "source": [
    "### Question 2\n",
    "\n",
    "**It turns out there isn't a definative \"official\" format for writing dates and times; over the years there have been many different strategies that have been developed for handling dates and times with a computer. One popular format is *UNIX time* (aka POSIX time, aka UNIX epoch), which is the number of seconds that have passed since 00:00 on January 1st, 1970. What is the current date/time written in UNIX epoch format? (Useful tools exist online to help you with this)**"
   ]
  },
  {
   "cell_type": "markdown",
   "id": "54e36145",
   "metadata": {},
   "source": [
    "your answer here"
   ]
  },
  {
   "cell_type": "markdown",
   "id": "ed07d6b9",
   "metadata": {},
   "source": [
    "**andrew's soln**\n",
    "\n",
    "1629240717"
   ]
  },
  {
   "cell_type": "markdown",
   "id": "2436d9a5",
   "metadata": {},
   "source": [
    "### Question 3\n",
    "\n",
    "**Python has several *packages* for handling dates and times and converting between formats. In this course, we will be using *Arrow*. Read the documentation [here](https://arrow.readthedocs.io/en/latest/) to get familiar with some of Arrow's build in functions, or type `help(arrow)` into a cell. Convert the following dates into *arrow date objects*:**"
   ]
  },
  {
   "cell_type": "markdown",
   "id": "d405bf29",
   "metadata": {},
   "source": [
    "**Important Dates in History:**\n",
    "\n",
    "My birthday: `763171200`\n",
    "\n",
    "First Documented Coronavirus Case: `'November 17, 2019'`\n",
    "\n",
    "SpaceX Inspiration 4 scheduled launch: `'0900 09/14/21'`"
   ]
  },
  {
   "cell_type": "code",
   "execution_count": 2,
   "id": "208d85f3",
   "metadata": {},
   "outputs": [],
   "source": [
    "# your code here"
   ]
  },
  {
   "cell_type": "code",
   "execution_count": 3,
   "id": "c1c76461",
   "metadata": {},
   "outputs": [
    {
     "data": {
      "text/plain": [
       "<Arrow [1994-03-09T00:00:00+00:00]>"
      ]
     },
     "execution_count": 3,
     "metadata": {},
     "output_type": "execute_result"
    }
   ],
   "source": [
    "# andrew's soln\n",
    "# birthday\n",
    "birthday = arrow.get(763171200)\n",
    "birthday"
   ]
  },
  {
   "cell_type": "code",
   "execution_count": 4,
   "id": "7c9b95fb",
   "metadata": {},
   "outputs": [
    {
     "data": {
      "text/plain": [
       "<Arrow [2019-11-17T00:00:00+00:00]>"
      ]
     },
     "execution_count": 4,
     "metadata": {},
     "output_type": "execute_result"
    }
   ],
   "source": [
    "# covid \n",
    "covid_start = arrow.get('Nov 17, 2019', 'MMM DD, YYYY')\n",
    "covid_start"
   ]
  },
  {
   "cell_type": "code",
   "execution_count": 5,
   "id": "465fe180",
   "metadata": {},
   "outputs": [
    {
     "data": {
      "text/plain": [
       "<Arrow [2021-09-14T09:00:00+00:00]>"
      ]
     },
     "execution_count": 5,
     "metadata": {},
     "output_type": "execute_result"
    }
   ],
   "source": [
    "# spacex\n",
    "launch = arrow.get('0900 09/14/21', 'hhmm MM/DD/YY')\n",
    "launch"
   ]
  },
  {
   "cell_type": "markdown",
   "id": "3db4a17b",
   "metadata": {},
   "source": [
    "### Question 4\n",
    "\n",
    "**How old are you (in years)? How long ago did the pandemic start (in years and days)? Find/display the answer using the built in `humanize()` function**"
   ]
  },
  {
   "cell_type": "code",
   "execution_count": 6,
   "id": "03c151b5",
   "metadata": {},
   "outputs": [
    {
     "data": {
      "text/plain": [
       "'27 years'"
      ]
     },
     "execution_count": 6,
     "metadata": {},
     "output_type": "execute_result"
    }
   ],
   "source": [
    "# age\n",
    "now = arrow.now('US/Pacific')\n",
    "now.humanize(birthday, only_distance=True)"
   ]
  },
  {
   "cell_type": "code",
   "execution_count": 7,
   "id": "883c8a1d",
   "metadata": {},
   "outputs": [
    {
     "data": {
      "text/plain": [
       "'a year and 275 days ago'"
      ]
     },
     "execution_count": 7,
     "metadata": {},
     "output_type": "execute_result"
    }
   ],
   "source": [
    "# pandemic\n",
    "covid_start.humanize(now, granularity=[\"year\",\"day\"])"
   ]
  },
  {
   "cell_type": "code",
   "execution_count": 8,
   "id": "95ad27a8",
   "metadata": {},
   "outputs": [],
   "source": [
    "# get some timeseries data (hide this cell later)\n",
    "# data is modified from AEROCAN station at Waskesiu, SK. (Andrew's research with Ian)\n",
    "\n",
    "AOD_dates = np.array(\n",
    "    [\n",
    "        \"2019-06-12 19:03\",\n",
    "        \"2019-06-12 19:05\",\n",
    "        \"2019-06-12 19:12\",\n",
    "        \"2019-06-12 19:33\",\n",
    "        \"2019-06-12 21:50\",\n",
    "        \"2019-06-12 22:20\",\n",
    "        \"2019-06-12 22:42\",\n",
    "        \"2019-06-12 22:54\",\n",
    "        \"2019-06-12 22:57\",\n",
    "        \"2019-06-12 23:03\",\n",
    "        \"2019-06-12 23:05\",\n",
    "        \"2019-06-13 14:21\",\n",
    "        \"2019-06-17 13:51\",\n",
    "        \"2019-06-17 14:00\",\n",
    "        \"2019-06-17 14:03\",\n",
    "        \"2019-06-17 15:30\",\n",
    "        \"2019-06-17 15:33\",\n",
    "        \"2019-06-17 15:35\",\n",
    "        \"2019-06-17 15:39\",\n",
    "        \"2019-06-17 15:48\",\n",
    "        \"2019-06-17 16:48\",\n",
    "        \"2019-06-17 16:50\",\n",
    "        \"2019-06-17 16:54\",\n",
    "        \"2019-06-17 17:09\",\n",
    "        \"2019-06-17 17:20\",\n",
    "    ]\n",
    ")\n",
    "\n",
    "AOD_data = np.array(\n",
    "    [\n",
    "        0.262725,\n",
    "        0.277939,\n",
    "        0.264587,\n",
    "        0.253328,\n",
    "        0.269569,\n",
    "        0.267441,\n",
    "        0.248769,\n",
    "        0.263718,\n",
    "        0.264954,\n",
    "        0.268052,\n",
    "        0.254893,\n",
    "        0.245502,\n",
    "        0.085446,\n",
    "        0.082944,\n",
    "        0.082188,\n",
    "        0.100134,\n",
    "        0.097456,\n",
    "        0.098366,\n",
    "        0.098205,\n",
    "        0.101035,\n",
    "        0.115508,\n",
    "        0.113655,\n",
    "        0.11288,\n",
    "        0.122015,\n",
    "        0.117067,\n",
    "    ]\n",
    ")"
   ]
  },
  {
   "cell_type": "code",
   "execution_count": 9,
   "id": "b3e9979a",
   "metadata": {},
   "outputs": [
    {
     "data": {
      "text/plain": [
       "[<matplotlib.lines.Line2D at 0x29470960130>]"
      ]
     },
     "execution_count": 9,
     "metadata": {},
     "output_type": "execute_result"
    },
    {
     "data": {
      "image/png": "[encoded data removed]",
      "text/plain": [
       "<Figure size 432x288 with 1 Axes>"
      ]
     },
     "metadata": {
      "needs_background": "light"
     },
     "output_type": "display_data"
    }
   ],
   "source": [
    "plt.plot(AOD_dates, AOD_data)"
   ]
  },
  {
   "cell_type": "code",
   "execution_count": 13,
   "id": "ff67eedb",
   "metadata": {},
   "outputs": [
    {
     "data": {
      "text/plain": [
       "array(['19:03', '19:05', '19:12', '19:33', '21:50', '22:20', '22:42',\n",
       "       '22:54', '22:57', '23:03', '23:05', '14:21', '13:51', '14:00',\n",
       "       '14:03', '15:30', '15:33', '15:35', '15:39', '15:48', '16:48',\n",
       "       '16:50', '16:54', '17:09', '17:20'], dtype='<U16')"
      ]
     },
     "execution_count": 13,
     "metadata": {},
     "output_type": "execute_result"
    }
   ],
   "source": [
    "parsed_dates = np.empty_like(AOD_dates)\n",
    "for _, date in enumerate(AOD_dates):\n",
    "    parsed_dates[_] = arrow.get(date).format('HH:mm')\n",
    "\n",
    "parsed_dates"
   ]
  },
  {
   "cell_type": "code",
   "execution_count": 11,
   "id": "bb3f9339",
   "metadata": {
    "scrolled": true
   },
   "outputs": [
    {
     "data": {
      "image/png": "[encoded data removed]",
      "text/plain": [
       "<Figure size 432x288 with 1 Axes>"
      ]
     },
     "metadata": {
      "needs_background": "light"
     },
     "output_type": "display_data"
    }
   ],
   "source": [
    "plt.plot(parsed_dates, AOD_data)\n",
    "plt.xticks(rotation=-90);"
   ]
  }
 ],
 "metadata": {
  "jupytext": {
   "formats": "ipynb,md"
  },
  "kernelspec": {
   "display_name": "Python 3",
   "language": "python",
   "name": "python3"
  },
  "language_info": {
   "codemirror_mode": {
    "name": "ipython",
    "version": 3
   },
   "file_extension": ".py",
   "mimetype": "text/x-python",
   "name": "python",
   "nbconvert_exporter": "python",
   "pygments_lexer": "ipython3",
   "version": "3.9.4"
  }
 },
 "nbformat": 4,
 "nbformat_minor": 5
}

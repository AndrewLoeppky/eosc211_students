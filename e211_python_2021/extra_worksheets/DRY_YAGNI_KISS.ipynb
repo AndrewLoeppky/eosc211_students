{
 "cells": [
  {
   "cell_type": "markdown",
   "id": "303dfe94",
   "metadata": {},
   "source": [
    "# DRY, YAGNI, and KISS\n",
    "\n",
    "## EOSC 211\n",
    "\n",
    "### Learning Goals\n",
    "\n",
    "* Understand 3 principles of code design in order to solve problems with the appropriate level of complexity\n",
    "* Apply the law of diminishing returns to code development\n",
    "\n",
    "(exposition on DRY, YAGNI, KISS)\n",
    "\n",
    "### Your Task\n",
    "\n",
    "You are presented with the following problem:\n",
    "\n",
    "$$\n",
    "13.2 \\times 8539 = \\space x\n",
    "$$\n",
    "$$\n",
    "14.2 \\times 231 = \\space y\n",
    "$$\n",
    "$$\n",
    "11.0 \\times 3333 = \\space z\n",
    "$$\n",
    "\n",
    "Your job is to develop effective code to answer this question. "
   ]
  },
  {
   "cell_type": "markdown",
   "id": "5fab75ec",
   "metadata": {},
   "source": [
    "#### Method 1: Use Python as a Calculator\n",
    "\n",
    "Write a very simple code cell that performs the calculation. Time how long it takes you to obtain the answer."
   ]
  },
  {
   "cell_type": "code",
   "execution_count": 7,
   "id": "9d629371",
   "metadata": {},
   "outputs": [],
   "source": [
    "# your code here"
   ]
  },
  {
   "cell_type": "code",
   "execution_count": 13,
   "id": "02859ff1",
   "metadata": {},
   "outputs": [],
   "source": [
    "# soln\n",
    "x = 13.2 * 8539\n",
    "y = 14.2 * 231\n",
    "z = 11.0 * 3333"
   ]
  },
  {
   "cell_type": "markdown",
   "id": "809049cd",
   "metadata": {},
   "source": [
    "#### Method 2: Generalize Your Code \n",
    "\n",
    "Method 2 appears to work, but what if we had to perform a larger number of similar calculations for some future problem? We can avoid writing out each varaible `x`, `y`, `z` and **repeating ourselves** by defining a function `multiply()` which takes in input arrays of arbitrary size and returns their product. Again, time how long it takes you to reach the solution."
   ]
  },
  {
   "cell_type": "code",
   "execution_count": 9,
   "id": "c0536c20",
   "metadata": {},
   "outputs": [],
   "source": [
    "# your code here"
   ]
  },
  {
   "cell_type": "code",
   "execution_count": 42,
   "id": "958126d6",
   "metadata": {},
   "outputs": [],
   "source": [
    "# soln\n",
    "import numpy as np\n",
    "\n",
    "def multiply(var1, var2):\n",
    "    \"\"\"\n",
    "    returns the product of two inputs var1, var2\n",
    "    \"\"\"\n",
    "    return var1 * var2\n",
    "\n",
    "vec1 = np.array([13.2, 14.2, 11.0])\n",
    "vec2 = np.array([8539, 231, 3333])\n",
    "\n",
    "x, y, z = multiply(vec1, vec2)"
   ]
  },
  {
   "cell_type": "markdown",
   "id": "5d8c6b62",
   "metadata": {},
   "source": [
    "#### Method 3: Expand Your Code's Capabilities\n",
    "\n",
    "We can expand on our `multiply()` function to make it even more general-use. In the cell below, modify your function such that it can take two input variables and add, subtract, multiply, or divide them. Have the function print to the screen both the input equations and the solutions, i.e.\n",
    "\n",
    "```python\n",
    "vec1 = np.array([13.2, 14.2, 11.0])\n",
    "vec2 = np.array([8539, 231, 3333])\n",
    "\n",
    "do_math(vec1, vec2, \"+\")\n",
    "```\n",
    "```\n",
    "    13.2 + 8539 = 8552.2\n",
    "    14.2 + 231 = 245.2\n",
    "    11.0 + 3333 = 3344.0\n",
    "```\n",
    "\n",
    "If an invalid operation is entered, print a message `\"please input a valid mathematical operation +, -, *, or /\"`. How long does this take you to do this time?"
   ]
  },
  {
   "cell_type": "code",
   "execution_count": 43,
   "id": "f7052079",
   "metadata": {},
   "outputs": [],
   "source": [
    "# your code here"
   ]
  },
  {
   "cell_type": "code",
   "execution_count": 41,
   "id": "65abd864",
   "metadata": {},
   "outputs": [
    {
     "name": "stdout",
     "output_type": "stream",
     "text": [
      "13.2 + 8539 = 8552.2\n",
      "14.2 + 231 = 245.2\n",
      "11.0 + 3333 = 3344.0\n"
     ]
    }
   ],
   "source": [
    "# soln\n",
    "def do_math(var1, var2, operation):\n",
    "    \"\"\"\n",
    "    performs simple mathematical operations in an overly complicated way\n",
    "    \"\"\"\n",
    "    if operation == \"+\":\n",
    "        ans = var1 + var2\n",
    "    elif operation == \"-\":\n",
    "        ans = var1 - var2\n",
    "    elif operation == \"*\":\n",
    "        ans = var1 * var2\n",
    "    elif operation == \"/\":\n",
    "        ans = var1 / var2\n",
    "    else:\n",
    "        print(\"please enter a valid operation +, -, *, or /\")\n",
    "        \n",
    "    for v1, v2, a in zip(var1, var2, ans):\n",
    "        print(v1, operation, v2, \"=\", a)\n",
    "    return None\n",
    "\n",
    "do_math(vec1, vec2, \"+\")"
   ]
  },
  {
   "cell_type": "markdown",
   "id": "cfe3e821",
   "metadata": {},
   "source": [
    "### Reflection\n",
    "\n",
    "In your opinion, which of the above methods is the best solution for the given problem? Evaluate all three methods in terms of DRY, YAGNI, and KISS. State which one you thought was the best use of your time as a scientific programmer."
   ]
  },
  {
   "cell_type": "markdown",
   "id": "9804e3b3",
   "metadata": {},
   "source": [
    "your answer here"
   ]
  }
 ],
 "metadata": {
  "jupytext": {
   "formats": "ipynb,md"
  },
  "kernelspec": {
   "display_name": "Python 3",
   "language": "python",
   "name": "python3"
  },
  "language_info": {
   "codemirror_mode": {
    "name": "ipython",
    "version": 3
   },
   "file_extension": ".py",
   "mimetype": "text/x-python",
   "name": "python",
   "nbconvert_exporter": "python",
   "pygments_lexer": "ipython3",
   "version": "3.9.4"
  }
 },
 "nbformat": 4,
 "nbformat_minor": 5
}
